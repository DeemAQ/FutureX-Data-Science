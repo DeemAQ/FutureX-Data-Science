{
  "cells": [
    {
      "cell_type": "markdown",
      "metadata": {
        "id": "XQ3QkAhRnVbG"
      },
      "source": [
        "---\n",
        "\n",
        "_You are currently looking at **version 1.0** of this notebook. To download notebooks and datafiles, as well as get help on Jupyter notebooks in the Coursera platform, visit the [Jupyter Notebook FAQ](https://www.coursera.org/learn/python-text-mining/resources/d9pwm) course resource._\n",
        "\n",
        "---"
      ]
    },
    {
      "cell_type": "markdown",
      "metadata": {
        "id": "jQ0UaxXRnVbG"
      },
      "source": [
        "# Assignment 4 - Document Similarity & Topic Modelling"
      ]
    },
    {
      "cell_type": "markdown",
      "metadata": {
        "id": "mhqIG309nVbG"
      },
      "source": [
        "## Part 1 - Document Similarity\n",
        "\n",
        "For the first part of this assignment, you will complete the functions `doc_to_synsets` and `similarity_score` which will be used by `document_path_similarity` to find the path similarity between two documents.\n",
        "\n",
        "The following functions are provided:\n",
        "* **`convert_tag:`** converts the tag given by `nltk.pos_tag` to a tag used by `wordnet.synsets`. You will need to use this function in `doc_to_synsets`.\n",
        "* **`document_path_similarity:`** computes the symmetrical path similarity between two documents by finding the synsets in each document using `doc_to_synsets`, then computing similarities using `similarity_score`.\n",
        "\n",
        "You will need to finish writing the following functions:\n",
        "* **`doc_to_synsets:`** returns a list of synsets in document. This function should first tokenize and part of speech tag the document using `nltk.word_tokenize` and `nltk.pos_tag`. Then it should find each tokens corresponding synset using `wn.synsets(token, wordnet_tag)`. The first synset match should be used. If there is no match, that token is skipped.\n",
        "* **`similarity_score:`** returns the normalized similarity score of a list of synsets (s1) onto a second list of synsets (s2). For each synset in s1, find the synset in s2 with the largest similarity value. Sum all of the largest similarity values together and normalize this value by dividing it by the number of largest similarity values found. Be careful with data types, which should be floats. Missing values should be ignored.\n",
        "\n",
        "Once `doc_to_synsets` and `similarity_score` have been completed, submit to the autograder which will run `test_document_path_similarity` to test that these functions are running correctly. \n",
        "\n",
        "*Do not modify the functions `convert_tag`, `document_path_similarity`, and `test_document_path_similarity`.*"
      ]
    },
    {
      "cell_type": "code",
      "source": [
        "import nltk\n",
        "nltk.download('punkt')\n",
        "nltk.download('averaged_perceptron_tagger')\n",
        "nltk.download('wordnet')\n",
        "nltk.download('omw-1.4')"
      ],
      "metadata": {
        "colab": {
          "base_uri": "https://localhost:8080/"
        },
        "id": "AY84vkNpz4Ql",
        "outputId": "0a92b438-1571-48b7-c1d4-a884e3118037"
      },
      "execution_count": 251,
      "outputs": [
        {
          "output_type": "stream",
          "name": "stderr",
          "text": [
            "[nltk_data] Downloading package punkt to /root/nltk_data...\n",
            "[nltk_data]   Package punkt is already up-to-date!\n",
            "[nltk_data] Downloading package averaged_perceptron_tagger to\n",
            "[nltk_data]     /root/nltk_data...\n",
            "[nltk_data]   Package averaged_perceptron_tagger is already up-to-\n",
            "[nltk_data]       date!\n",
            "[nltk_data] Downloading package wordnet to /root/nltk_data...\n",
            "[nltk_data]   Package wordnet is already up-to-date!\n",
            "[nltk_data] Downloading package omw-1.4 to /root/nltk_data...\n",
            "[nltk_data]   Package omw-1.4 is already up-to-date!\n"
          ]
        },
        {
          "output_type": "execute_result",
          "data": {
            "text/plain": [
              "True"
            ]
          },
          "metadata": {},
          "execution_count": 251
        }
      ]
    },
    {
      "cell_type": "code",
      "execution_count": 265,
      "metadata": {
        "collapsed": true,
        "id": "ZlXC3a8bnVbG"
      },
      "outputs": [],
      "source": [
        "import numpy as np\n",
        "import nltk\n",
        "from nltk.corpus import wordnet as wn\n",
        "import pandas as pd\n",
        "\n",
        "\n",
        "def convert_tag(tag):\n",
        "    \"\"\"Convert the tag given by nltk.pos_tag to the tag used by wordnet.synsets\"\"\"\n",
        "    \n",
        "    tag_dict = {'N': 'n', 'J': 'a', 'R': 'r', 'V': 'v'}\n",
        "    try:\n",
        "        return tag_dict[tag[0]]\n",
        "    except KeyError:\n",
        "        return None\n",
        "\n",
        "\n",
        "def doc_to_synsets(doc):\n",
        "    \"\"\"\n",
        "    Returns a list of synsets in document.\n",
        "\n",
        "    Tokenizes and tags the words in the document doc.\n",
        "    Then finds the first synset for each word/tag combination.\n",
        "    If a synset is not found for that combination it is skipped.\n",
        "\n",
        "    Args:\n",
        "        doc: string to be converted\n",
        "\n",
        "    Returns:\n",
        "        list of synsets\n",
        "\n",
        "    Example:\n",
        "        doc_to_synsets('Fish are nvqjp friends.')\n",
        "        Out: [Synset('fish.n.01'), Synset('be.v.01'), Synset('friend.n.01')]\n",
        "    \"\"\"\n",
        "    \n",
        "\n",
        "    tokens = nltk.word_tokenize(doc)\n",
        "    pos = list(map(lambda token_pos: token_pos[1], nltk.pos_tag(tokens)))\n",
        "    wn_tags = list(map(convert_tag, pos))\n",
        "    synsets = [wn.synsets(token, tag) for token, tag in zip(tokens, wn_tags)]\n",
        "    \n",
        "    return [s[0] for s in synsets if s]\n",
        "\n",
        "\n",
        "def similarity_score(s1, s2):\n",
        "    \"\"\"\n",
        "    Calculate the normalized similarity score of s1 onto s2\n",
        "\n",
        "    For each synset in s1, finds the synset in s2 with the largest similarity value.\n",
        "    Sum of all of the largest similarity values and normalize this value by dividing it by the\n",
        "    number of largest similarity values found.\n",
        "\n",
        "    Args:\n",
        "        s1, s2: list of synsets from doc_to_synsets\n",
        "\n",
        "    Returns:\n",
        "        normalized similarity score of s1 onto s2\n",
        "\n",
        "    Example:\n",
        "        synsets1 = doc_to_synsets('I like cats')\n",
        "        synsets2 = doc_to_synsets('I like dogs')\n",
        "        similarity_score(synsets1, synsets2)\n",
        "        Out: 0.73333333333333339\n",
        "    \"\"\"\n",
        "    \n",
        "    # max_sim = list()\n",
        "    # for synset1 in s1:\n",
        "    #     scores = [synset1.path_similarity(synset2) for synset2 in s2]\n",
        "    #     if scores:\n",
        "    #         max_sim.append(max(scores))\n",
        "    \n",
        "    # return np.mean(max_sim)\n",
        "\n",
        "    s =[]\n",
        "    for i1 in s1:\n",
        "        r = []\n",
        "        for i2 in s2:\n",
        "            r.append(i1.path_similarity(i2))\n",
        "        result = [x for x in r if x is not None]\n",
        "        if len(result) > 0 :\n",
        "            s.append(max(result))\n",
        "\n",
        "    return sum(s)/len(s)\n",
        "\n",
        "def document_path_similarity(doc1, doc2):\n",
        "    \"\"\"Finds the symmetrical similarity between doc1 and doc2\"\"\"\n",
        "\n",
        "    synsets1 = doc_to_synsets(doc1)\n",
        "    synsets2 = doc_to_synsets(doc2)\n",
        "\n",
        "    return (similarity_score(synsets1, synsets2) + similarity_score(synsets2, synsets1)) / 2"
      ]
    },
    {
      "cell_type": "markdown",
      "metadata": {
        "id": "xZ8anqNBnVbG"
      },
      "source": [
        "### test_document_path_similarity\n",
        "\n",
        "Use this function to check if doc_to_synsets and similarity_score are correct.\n",
        "\n",
        "*This function should return the similarity score as a float.*"
      ]
    },
    {
      "cell_type": "code",
      "execution_count": 253,
      "metadata": {
        "collapsed": true,
        "id": "9Yggct6KnVbG"
      },
      "outputs": [],
      "source": [
        "def test_document_path_similarity():\n",
        "    doc1 = 'This is a function to test document_path_similarity.'\n",
        "    doc2 = 'Use this function to see if your code in doc_to_synsets \\\n",
        "    and similarity_score is correct!'\n",
        "    return document_path_similarity(doc1, doc2)"
      ]
    },
    {
      "cell_type": "markdown",
      "metadata": {
        "id": "WLRO4D1inVbG"
      },
      "source": [
        "<br>\n",
        "___\n",
        "`paraphrases` is a DataFrame which contains the following columns: `Quality`, `D1`, and `D2`.\n",
        "\n",
        "`Quality` is an indicator variable which indicates if the two documents `D1` and `D2` are paraphrases of one another (1 for paraphrase, 0 for not paraphrase)."
      ]
    },
    {
      "cell_type": "code",
      "execution_count": 254,
      "metadata": {
        "collapsed": true,
        "colab": {
          "base_uri": "https://localhost:8080/",
          "height": 206
        },
        "id": "9fPlmzvznVbG",
        "outputId": "1dc0de7d-3ad4-49ed-d702-ead6931ff0b7"
      },
      "outputs": [
        {
          "output_type": "execute_result",
          "data": {
            "text/plain": [
              "   Quality                                                 D1  \\\n",
              "0        1  Ms Stewart, the chief executive, was not expec...   \n",
              "1        1  After more than two years' detention under the...   \n",
              "2        1  \"It still remains to be seen whether the reven...   \n",
              "3        0  And it's going to be a wild ride,\" said Allan ...   \n",
              "4        1  The cards are issued by Mexico's consulates to...   \n",
              "\n",
              "                                                  D2  \n",
              "0  Ms Stewart, 61, its chief executive officer an...  \n",
              "1  After more than two years in detention by the ...  \n",
              "2  \"It remains to be seen whether the revenue rec...  \n",
              "3  Now the rest is just mechanical,\" said Allan H...  \n",
              "4  The card is issued by Mexico's consulates to i...  "
            ],
            "text/html": [
              "\n",
              "  <div id=\"df-413aa89a-94e9-477f-879d-e944a3923af5\">\n",
              "    <div class=\"colab-df-container\">\n",
              "      <div>\n",
              "<style scoped>\n",
              "    .dataframe tbody tr th:only-of-type {\n",
              "        vertical-align: middle;\n",
              "    }\n",
              "\n",
              "    .dataframe tbody tr th {\n",
              "        vertical-align: top;\n",
              "    }\n",
              "\n",
              "    .dataframe thead th {\n",
              "        text-align: right;\n",
              "    }\n",
              "</style>\n",
              "<table border=\"1\" class=\"dataframe\">\n",
              "  <thead>\n",
              "    <tr style=\"text-align: right;\">\n",
              "      <th></th>\n",
              "      <th>Quality</th>\n",
              "      <th>D1</th>\n",
              "      <th>D2</th>\n",
              "    </tr>\n",
              "  </thead>\n",
              "  <tbody>\n",
              "    <tr>\n",
              "      <th>0</th>\n",
              "      <td>1</td>\n",
              "      <td>Ms Stewart, the chief executive, was not expec...</td>\n",
              "      <td>Ms Stewart, 61, its chief executive officer an...</td>\n",
              "    </tr>\n",
              "    <tr>\n",
              "      <th>1</th>\n",
              "      <td>1</td>\n",
              "      <td>After more than two years' detention under the...</td>\n",
              "      <td>After more than two years in detention by the ...</td>\n",
              "    </tr>\n",
              "    <tr>\n",
              "      <th>2</th>\n",
              "      <td>1</td>\n",
              "      <td>\"It still remains to be seen whether the reven...</td>\n",
              "      <td>\"It remains to be seen whether the revenue rec...</td>\n",
              "    </tr>\n",
              "    <tr>\n",
              "      <th>3</th>\n",
              "      <td>0</td>\n",
              "      <td>And it's going to be a wild ride,\" said Allan ...</td>\n",
              "      <td>Now the rest is just mechanical,\" said Allan H...</td>\n",
              "    </tr>\n",
              "    <tr>\n",
              "      <th>4</th>\n",
              "      <td>1</td>\n",
              "      <td>The cards are issued by Mexico's consulates to...</td>\n",
              "      <td>The card is issued by Mexico's consulates to i...</td>\n",
              "    </tr>\n",
              "  </tbody>\n",
              "</table>\n",
              "</div>\n",
              "      <button class=\"colab-df-convert\" onclick=\"convertToInteractive('df-413aa89a-94e9-477f-879d-e944a3923af5')\"\n",
              "              title=\"Convert this dataframe to an interactive table.\"\n",
              "              style=\"display:none;\">\n",
              "        \n",
              "  <svg xmlns=\"http://www.w3.org/2000/svg\" height=\"24px\"viewBox=\"0 0 24 24\"\n",
              "       width=\"24px\">\n",
              "    <path d=\"M0 0h24v24H0V0z\" fill=\"none\"/>\n",
              "    <path d=\"M18.56 5.44l.94 2.06.94-2.06 2.06-.94-2.06-.94-.94-2.06-.94 2.06-2.06.94zm-11 1L8.5 8.5l.94-2.06 2.06-.94-2.06-.94L8.5 2.5l-.94 2.06-2.06.94zm10 10l.94 2.06.94-2.06 2.06-.94-2.06-.94-.94-2.06-.94 2.06-2.06.94z\"/><path d=\"M17.41 7.96l-1.37-1.37c-.4-.4-.92-.59-1.43-.59-.52 0-1.04.2-1.43.59L10.3 9.45l-7.72 7.72c-.78.78-.78 2.05 0 2.83L4 21.41c.39.39.9.59 1.41.59.51 0 1.02-.2 1.41-.59l7.78-7.78 2.81-2.81c.8-.78.8-2.07 0-2.86zM5.41 20L4 18.59l7.72-7.72 1.47 1.35L5.41 20z\"/>\n",
              "  </svg>\n",
              "      </button>\n",
              "      \n",
              "  <style>\n",
              "    .colab-df-container {\n",
              "      display:flex;\n",
              "      flex-wrap:wrap;\n",
              "      gap: 12px;\n",
              "    }\n",
              "\n",
              "    .colab-df-convert {\n",
              "      background-color: #E8F0FE;\n",
              "      border: none;\n",
              "      border-radius: 50%;\n",
              "      cursor: pointer;\n",
              "      display: none;\n",
              "      fill: #1967D2;\n",
              "      height: 32px;\n",
              "      padding: 0 0 0 0;\n",
              "      width: 32px;\n",
              "    }\n",
              "\n",
              "    .colab-df-convert:hover {\n",
              "      background-color: #E2EBFA;\n",
              "      box-shadow: 0px 1px 2px rgba(60, 64, 67, 0.3), 0px 1px 3px 1px rgba(60, 64, 67, 0.15);\n",
              "      fill: #174EA6;\n",
              "    }\n",
              "\n",
              "    [theme=dark] .colab-df-convert {\n",
              "      background-color: #3B4455;\n",
              "      fill: #D2E3FC;\n",
              "    }\n",
              "\n",
              "    [theme=dark] .colab-df-convert:hover {\n",
              "      background-color: #434B5C;\n",
              "      box-shadow: 0px 1px 3px 1px rgba(0, 0, 0, 0.15);\n",
              "      filter: drop-shadow(0px 1px 2px rgba(0, 0, 0, 0.3));\n",
              "      fill: #FFFFFF;\n",
              "    }\n",
              "  </style>\n",
              "\n",
              "      <script>\n",
              "        const buttonEl =\n",
              "          document.querySelector('#df-413aa89a-94e9-477f-879d-e944a3923af5 button.colab-df-convert');\n",
              "        buttonEl.style.display =\n",
              "          google.colab.kernel.accessAllowed ? 'block' : 'none';\n",
              "\n",
              "        async function convertToInteractive(key) {\n",
              "          const element = document.querySelector('#df-413aa89a-94e9-477f-879d-e944a3923af5');\n",
              "          const dataTable =\n",
              "            await google.colab.kernel.invokeFunction('convertToInteractive',\n",
              "                                                     [key], {});\n",
              "          if (!dataTable) return;\n",
              "\n",
              "          const docLinkHtml = 'Like what you see? Visit the ' +\n",
              "            '<a target=\"_blank\" href=https://colab.research.google.com/notebooks/data_table.ipynb>data table notebook</a>'\n",
              "            + ' to learn more about interactive tables.';\n",
              "          element.innerHTML = '';\n",
              "          dataTable['output_type'] = 'display_data';\n",
              "          await google.colab.output.renderOutput(dataTable, element);\n",
              "          const docLink = document.createElement('div');\n",
              "          docLink.innerHTML = docLinkHtml;\n",
              "          element.appendChild(docLink);\n",
              "        }\n",
              "      </script>\n",
              "    </div>\n",
              "  </div>\n",
              "  "
            ]
          },
          "metadata": {},
          "execution_count": 254
        }
      ],
      "source": [
        "# Use this dataframe for questions most_similar_docs and label_accuracy\n",
        "paraphrases = pd.read_csv('paraphrases.csv')\n",
        "paraphrases.head()"
      ]
    },
    {
      "cell_type": "markdown",
      "metadata": {
        "id": "ill84kxFnVbG"
      },
      "source": [
        "___\n",
        "\n",
        "### most_similar_docs\n",
        "\n",
        "Using `document_path_similarity`, find the pair of documents in paraphrases which has the maximum similarity score.\n",
        "\n",
        "*This function should return a tuple `(D1, D2, similarity_score)`*"
      ]
    },
    {
      "cell_type": "code",
      "execution_count": 255,
      "metadata": {
        "collapsed": true,
        "id": "oLCIs5oTnVbG"
      },
      "outputs": [],
      "source": [
        "def most_similar_docs():\n",
        "    from operator import itemgetter\n",
        "\n",
        "    paraphrases[\"Similarity\"] = paraphrases.apply(lambda x:\n",
        "                                              document_path_similarity(x[\"D1\"], \n",
        "                                                                       x[\"D2\"]), \n",
        "                                              axis=1)\n",
        "\n",
        "\n",
        "    return sorted([(d1, d2, score) for d1, d2, score in \n",
        "                   zip(paraphrases[\"D1\"].values,\n",
        "                       paraphrases[\"D2\"].values,\n",
        "                       paraphrases[\"Similarity\"])],\n",
        "                   key=itemgetter(2), reverse=True)[0]\n",
        "    \n",
        "\n",
        "# Another way:\n",
        "    # from operator import itemgetter\n",
        "\n",
        "\n",
        "    # scores = [document_path_similarity(d1, d2) \n",
        "    #           for d1, d2 in zip(paraphrases[\"D1\"].values,\n",
        "    #                             paraphrases[\"D2\"].values)]\n",
        "    \n",
        "    # return sorted([(d1, d2, score) for d1, d2, score in \n",
        "    #                zip(paraphrases[\"D1\"].values,\n",
        "    #                    paraphrases[\"D2\"].values,\n",
        "    #                    scores)], key=itemgetter(2), reverse=True)[0]"
      ]
    },
    {
      "cell_type": "markdown",
      "metadata": {
        "id": "Xd_LdpvxnVbG"
      },
      "source": [
        "### label_accuracy\n",
        "\n",
        "Provide labels for the twenty pairs of documents by computing the similarity for each pair using `document_path_similarity`. Let the classifier rule be that if the score is greater than 0.75, label is paraphrase (1), else label is not paraphrase (0). Report accuracy of the classifier using scikit-learn's accuracy_score.\n",
        "\n",
        "*This function should return a float.*"
      ]
    },
    {
      "cell_type": "code",
      "execution_count": 256,
      "metadata": {
        "collapsed": true,
        "id": "2C6ORQIAnVbG"
      },
      "outputs": [],
      "source": [
        "def label_accuracy():\n",
        "    from sklearn.metrics import accuracy_score\n",
        "\n",
        "    y_hat = np.where(paraphrases[\"Similarity\"]>0.75, 1, 0)\n",
        "    \n",
        "    return accuracy_score(paraphrases[\"Quality\"], y_hat)"
      ]
    },
    {
      "cell_type": "markdown",
      "metadata": {
        "id": "NMeOEf8nnVbG"
      },
      "source": [
        "## Part 2 - Topic Modelling\n",
        "\n",
        "For the second part of this assignment, you will use Gensim's LDA (Latent Dirichlet Allocation) model to model topics in `newsgroup_data`. You will first need to finish the code in the cell below by using gensim.models.ldamodel.LdaModel constructor to estimate LDA model parameters on the corpus, and save to the variable `ldamodel`. Extract 10 topics using `corpus` and `id_map`, and with `passes=25` and `random_state=34`."
      ]
    },
    {
      "cell_type": "code",
      "execution_count": 257,
      "metadata": {
        "collapsed": true,
        "id": "QIO56jm1nVbG"
      },
      "outputs": [],
      "source": [
        "import pickle\n",
        "import gensim\n",
        "from sklearn.feature_extraction.text import CountVectorizer\n",
        "\n",
        "# Load the list of documents\n",
        "with open('newsgroups', 'rb') as f:\n",
        "    newsgroup_data = pickle.load(f)\n",
        "\n",
        "# Use CountVectorizor to find three letter tokens, remove stop_words, \n",
        "# remove tokens that don't appear in at least 20 documents,\n",
        "# remove tokens that appear in more than 20% of the documents\n",
        "vect = CountVectorizer(min_df=20, max_df=0.2, stop_words='english', \n",
        "                       token_pattern='(?u)\\\\b\\\\w\\\\w\\\\w+\\\\b')\n",
        "# Fit and transform\n",
        "X = vect.fit_transform(newsgroup_data)\n",
        "\n",
        "# Convert sparse matrix to gensim corpus.\n",
        "corpus = gensim.matutils.Sparse2Corpus(X, documents_columns=False)\n",
        "\n",
        "# Mapping from word IDs to words (To be used in LdaModel's id2word parameter)\n",
        "id_map = dict((v, k) for k, v in vect.vocabulary_.items())\n"
      ]
    },
    {
      "cell_type": "code",
      "execution_count": 258,
      "metadata": {
        "collapsed": true,
        "id": "oXQKZGCenVbG"
      },
      "outputs": [],
      "source": [
        "# Use the gensim.models.ldamodel.LdaModel constructor to estimate \n",
        "# LDA model parameters on the corpus, and save to the variable `ldamodel`\n",
        "\n",
        "# Your code here:\n",
        "ldamodel = gensim.models.ldamodel.LdaModel(corpus=corpus, id2word=id_map, \n",
        "                                           num_topics=10, passes=25, \n",
        "                                           random_state=24)"
      ]
    },
    {
      "cell_type": "markdown",
      "metadata": {
        "id": "rcK0FAnwnVbG"
      },
      "source": [
        "### lda_topics\n",
        "\n",
        "Using `ldamodel`, find a list of the 10 topics and the most significant 10 words in each topic. This should be structured as a list of 10 tuples where each tuple takes on the form:\n",
        "\n",
        "`(9, '0.068*\"space\" + 0.036*\"nasa\" + 0.021*\"science\" + 0.020*\"edu\" + 0.019*\"data\" + 0.017*\"shuttle\" + 0.015*\"launch\" + 0.015*\"available\" + 0.014*\"center\" + 0.014*\"sci\"')`\n",
        "\n",
        "for example.\n",
        "\n",
        "*This function should return a list of tuples.*"
      ]
    },
    {
      "cell_type": "code",
      "execution_count": 259,
      "metadata": {
        "collapsed": true,
        "id": "jpfn6XBnnVbG"
      },
      "outputs": [],
      "source": [
        "def lda_topics():\n",
        "    \n",
        "    return ldamodel.print_topics(num_words=10)"
      ]
    },
    {
      "cell_type": "markdown",
      "metadata": {
        "id": "xE1zdXXlnVbW"
      },
      "source": [
        "### topic_distribution\n",
        "\n",
        "For the new document `new_doc`, find the topic distribution. Remember to use vect.transform on the the new doc, and Sparse2Corpus to convert the sparse matrix to gensim corpus.\n",
        "\n",
        "*This function should return a list of tuples, where each tuple is `(#topic, probability)`*"
      ]
    },
    {
      "cell_type": "code",
      "execution_count": 260,
      "metadata": {
        "collapsed": true,
        "id": "FM8qWqwWnVbW"
      },
      "outputs": [],
      "source": [
        "new_doc = [\"\\n\\nIt's my understanding that the freezing will start to occur because \\\n",
        "of the\\ngrowing distance of Pluto and Charon from the Sun, due to it's\\nelliptical orbit. \\\n",
        "It is not due to shadowing effects. \\n\\n\\nPluto can shadow Charon, and vice-versa.\\n\\nGeorge \\\n",
        "Krumins\\n-- \"]"
      ]
    },
    {
      "cell_type": "code",
      "execution_count": 261,
      "metadata": {
        "collapsed": true,
        "id": "3r1YRCH3nVbW"
      },
      "outputs": [],
      "source": [
        "def topic_distribution():\n",
        "    X_new_doc = vect.transform(new_doc)\n",
        "\n",
        "    corpus_new_doc = gensim.matutils.Sparse2Corpus(X_new_doc, \n",
        "                                                   documents_columns=False)\n",
        "    \n",
        "    return list(ldamodel[corpus_new_doc])[0]"
      ]
    },
    {
      "cell_type": "markdown",
      "metadata": {
        "id": "o8Y-Ol2enVbW"
      },
      "source": [
        "### topic_names\n",
        "\n",
        "From the list of the following given topics, assign topic names to the topics you found. If none of these names best matches the topics you found, create a new 1-3 word \"title\" for the topic.\n",
        "\n",
        "Topics: Health, Science, Automobiles, Politics, Government, Travel, Computers & IT, Sports, Business, Society & Lifestyle, Religion, Education.\n",
        "\n",
        "*This function should return a list of 10 strings.*"
      ]
    },
    {
      "cell_type": "code",
      "source": [
        "# import re\n",
        "\n",
        "\n",
        "# lda_words = lda_topics()\n",
        "\n",
        "# top_words = list()\n",
        "\n",
        "# for i in range(10):\n",
        "#     top_words.append(\" \".join([w for w in re.findall(r\"[a-z]*\", \n",
        "#                                                  lda_words[i][1]) if w]))\n",
        "    \n",
        "# top_words"
      ],
      "metadata": {
        "id": "7dUMx0rtbegY"
      },
      "execution_count": 262,
      "outputs": []
    },
    {
      "cell_type": "code",
      "execution_count": 263,
      "metadata": {
        "collapsed": true,
        "id": "_NxmIgTrnVbW"
      },
      "outputs": [],
      "source": [
        "def topic_names():\n",
        "    \n",
        "    topics = [\"Computers & IT\", \"Health\",\"Business\",\n",
        "     \"Education\", \"Sports\", \"Automobiles\",\n",
        "     \"Science\", \"Business\", \"Society and Lifestyle\",\n",
        "     \"Religion\"]\n",
        "    \n",
        "    return topics"
      ]
    }
  ],
  "metadata": {
    "coursera": {
      "course_slug": "python-text-mining",
      "graded_item_id": "2qbcK",
      "launcher_item_id": "pi9Sh",
      "part_id": "kQiwX"
    },
    "kernelspec": {
      "display_name": "Python 3",
      "language": "python",
      "name": "python3"
    },
    "language_info": {
      "codemirror_mode": {
        "name": "ipython",
        "version": 3
      },
      "file_extension": ".py",
      "mimetype": "text/x-python",
      "name": "python",
      "nbconvert_exporter": "python",
      "pygments_lexer": "ipython3",
      "version": "3.6.2"
    },
    "colab": {
      "provenance": [],
      "collapsed_sections": []
    }
  },
  "nbformat": 4,
  "nbformat_minor": 0
}