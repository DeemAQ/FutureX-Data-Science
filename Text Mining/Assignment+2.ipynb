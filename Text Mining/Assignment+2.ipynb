{
  "cells": [
    {
      "cell_type": "markdown",
      "metadata": {
        "id": "TWqrllIXz6kd"
      },
      "source": [
        "---\n",
        "\n",
        "_You are currently looking at **version 1.0** of this notebook. To download notebooks and datafiles, as well as get help on Jupyter notebooks in the Coursera platform, visit the [Jupyter Notebook FAQ](https://www.coursera.org/learn/python-text-mining/resources/d9pwm) course resource._\n",
        "\n",
        "---"
      ]
    },
    {
      "cell_type": "markdown",
      "metadata": {
        "id": "TK6Vj2Omz6kd"
      },
      "source": [
        "# Assignment 2 - Introduction to NLTK\n",
        "\n",
        "In part 1 of this assignment you will use nltk to explore the Herman Melville novel Moby Dick. Then in part 2 you will create a spelling recommender function that uses nltk to find words similar to the misspelling. "
      ]
    },
    {
      "cell_type": "markdown",
      "metadata": {
        "id": "D0xBOf4vz6kd"
      },
      "source": [
        "## Part 1 - Analyzing Moby Dick"
      ]
    },
    {
      "cell_type": "code",
      "source": [
        "import nltk\n",
        "nltk.download('punkt')\n",
        "nltk.download('wordnet')\n",
        "nltk.download('omw-1.4')\n",
        "nltk.download('averaged_perceptron_tagger')\n",
        "nltk.download('words')"
      ],
      "metadata": {
        "colab": {
          "base_uri": "https://localhost:8080/"
        },
        "id": "swuQi7tC0i_f",
        "outputId": "7742c548-53d7-4fab-d361-2a21eecad901"
      },
      "execution_count": 113,
      "outputs": [
        {
          "output_type": "stream",
          "name": "stderr",
          "text": [
            "[nltk_data] Downloading package punkt to /root/nltk_data...\n",
            "[nltk_data]   Package punkt is already up-to-date!\n",
            "[nltk_data] Downloading package wordnet to /root/nltk_data...\n",
            "[nltk_data]   Package wordnet is already up-to-date!\n",
            "[nltk_data] Downloading package omw-1.4 to /root/nltk_data...\n",
            "[nltk_data]   Package omw-1.4 is already up-to-date!\n",
            "[nltk_data] Downloading package averaged_perceptron_tagger to\n",
            "[nltk_data]     /root/nltk_data...\n",
            "[nltk_data]   Package averaged_perceptron_tagger is already up-to-\n",
            "[nltk_data]       date!\n",
            "[nltk_data] Downloading package words to /root/nltk_data...\n",
            "[nltk_data]   Unzipping corpora/words.zip.\n"
          ]
        },
        {
          "output_type": "execute_result",
          "data": {
            "text/plain": [
              "True"
            ]
          },
          "metadata": {},
          "execution_count": 113
        }
      ]
    },
    {
      "cell_type": "code",
      "execution_count": 3,
      "metadata": {
        "collapsed": true,
        "id": "AJOVQyPKz6kd"
      },
      "outputs": [],
      "source": [
        "import nltk\n",
        "import pandas as pd\n",
        "import numpy as np\n",
        "\n",
        "# If you would like to work with the raw text you can use 'moby_raw'\n",
        "with open('moby.txt', 'r') as f:\n",
        "    moby_raw = f.read()\n",
        "    \n",
        "# If you would like to work with the novel in nltk.Text format you can use 'text1'\n",
        "moby_tokens = nltk.word_tokenize(moby_raw)\n",
        "text1 = nltk.Text(moby_tokens)"
      ]
    },
    {
      "cell_type": "markdown",
      "metadata": {
        "id": "Mr7ApRqVz6kd"
      },
      "source": [
        "### Example 1\n",
        "\n",
        "How many tokens (words and punctuation symbols) are in text1?\n",
        "\n",
        "*This function should return an integer.*"
      ]
    },
    {
      "cell_type": "code",
      "execution_count": 5,
      "metadata": {
        "collapsed": true,
        "colab": {
          "base_uri": "https://localhost:8080/"
        },
        "id": "43xW-DR-z6kd",
        "outputId": "94112dd9-8297-43c2-a96e-1702a97802ac"
      },
      "outputs": [
        {
          "output_type": "execute_result",
          "data": {
            "text/plain": [
              "255028"
            ]
          },
          "metadata": {},
          "execution_count": 5
        }
      ],
      "source": [
        "def example_one():\n",
        "    \n",
        "    return len(nltk.word_tokenize(moby_raw)) # or alternatively len(text1)\n",
        "\n",
        "example_one()"
      ]
    },
    {
      "cell_type": "markdown",
      "metadata": {
        "id": "y5rXZ3P-z6kd"
      },
      "source": [
        "### Example 2\n",
        "\n",
        "How many unique tokens (unique words and punctuation) does text1 have?\n",
        "\n",
        "*This function should return an integer.*"
      ]
    },
    {
      "cell_type": "code",
      "execution_count": 6,
      "metadata": {
        "collapsed": true,
        "colab": {
          "base_uri": "https://localhost:8080/"
        },
        "id": "75P-xq8lz6kd",
        "outputId": "483ce749-cf31-4a88-f7f4-9a914e52cc84"
      },
      "outputs": [
        {
          "output_type": "execute_result",
          "data": {
            "text/plain": [
              "20742"
            ]
          },
          "metadata": {},
          "execution_count": 6
        }
      ],
      "source": [
        "def example_two():\n",
        "    \n",
        "    return len(set(nltk.word_tokenize(moby_raw))) # or alternatively len(set(text1))\n",
        "\n",
        "example_two()"
      ]
    },
    {
      "cell_type": "markdown",
      "metadata": {
        "id": "hjgg1CEaz6kd"
      },
      "source": [
        "### Example 3\n",
        "\n",
        "After lemmatizing the verbs, how many unique tokens does text1 have?\n",
        "\n",
        "*This function should return an integer.*"
      ]
    },
    {
      "cell_type": "code",
      "execution_count": 11,
      "metadata": {
        "collapsed": true,
        "colab": {
          "base_uri": "https://localhost:8080/"
        },
        "id": "pduZ0t7Jz6kd",
        "outputId": "bffbff32-578d-42a6-ad96-e6fd6048a9cc"
      },
      "outputs": [
        {
          "output_type": "execute_result",
          "data": {
            "text/plain": [
              "16887"
            ]
          },
          "metadata": {},
          "execution_count": 11
        }
      ],
      "source": [
        "from nltk.stem import WordNetLemmatizer\n",
        "\n",
        "def example_three():\n",
        "\n",
        "    lemmatizer = WordNetLemmatizer()\n",
        "    lemmatized = [lemmatizer.lemmatize(w,'v') for w in text1]\n",
        "\n",
        "    return len(set(lemmatized))\n",
        "\n",
        "example_three()"
      ]
    },
    {
      "cell_type": "markdown",
      "metadata": {
        "id": "d40cmFg5z6kd"
      },
      "source": [
        "### Question 1\n",
        "\n",
        "What is the lexical diversity of the given text input? (i.e. ratio of unique tokens to the total number of tokens)\n",
        "\n",
        "*This function should return a float.*"
      ]
    },
    {
      "cell_type": "code",
      "execution_count": 13,
      "metadata": {
        "collapsed": true,
        "colab": {
          "base_uri": "https://localhost:8080/"
        },
        "id": "gx6_Pa_5z6kd",
        "outputId": "b2491c62-91f5-4dd8-b9c6-b8b9bfef53e4"
      },
      "outputs": [
        {
          "output_type": "execute_result",
          "data": {
            "text/plain": [
              "0.08133224587104161"
            ]
          },
          "metadata": {},
          "execution_count": 13
        }
      ],
      "source": [
        "def answer_one():\n",
        "    return len(set(text1))/len(text1)\n",
        "\n",
        "answer_one()"
      ]
    },
    {
      "cell_type": "markdown",
      "metadata": {
        "id": "yvwLEuGxz6ku"
      },
      "source": [
        "### Question 2\n",
        "\n",
        "What percentage of tokens is 'whale'or 'Whale'?\n",
        "\n",
        "*This function should return a float.*"
      ]
    },
    {
      "cell_type": "code",
      "execution_count": 28,
      "metadata": {
        "collapsed": true,
        "colab": {
          "base_uri": "https://localhost:8080/"
        },
        "id": "H_muVXM6z6ku",
        "outputId": "25db0c46-bc2a-49a5-dcb2-cdb28228a5b8"
      },
      "outputs": [
        {
          "output_type": "execute_result",
          "data": {
            "text/plain": [
              "0.4125037250811676"
            ]
          },
          "metadata": {},
          "execution_count": 28
        }
      ],
      "source": [
        "def answer_two():\n",
        "    whale = text1.count(\"whale\")+text1.count(\"Whale\")\n",
        "    all = len(text1)\n",
        "    return whale / all * 100\n",
        "\n",
        "answer_two()"
      ]
    },
    {
      "cell_type": "markdown",
      "metadata": {
        "id": "p0Cnz0wWz6ku"
      },
      "source": [
        "### Question 3\n",
        "\n",
        "What are the 20 most frequently occurring (unique) tokens in the text? What is their frequency?\n",
        "\n",
        "*This function should return a list of 20 tuples where each tuple is of the form `(token, frequency)`. The list should be sorted in descending order of frequency.*"
      ]
    },
    {
      "cell_type": "code",
      "execution_count": 66,
      "metadata": {
        "collapsed": true,
        "colab": {
          "base_uri": "https://localhost:8080/"
        },
        "id": "jaLDWjXUz6ku",
        "outputId": "f29f08cf-0677-4dfa-e4eb-a635420f8341"
      },
      "outputs": [
        {
          "output_type": "execute_result",
          "data": {
            "text/plain": [
              "[(',', 19204),\n",
              " ('the', 13715),\n",
              " ('.', 7306),\n",
              " ('of', 6513),\n",
              " ('and', 6010),\n",
              " ('a', 4545),\n",
              " ('to', 4515),\n",
              " (';', 4173),\n",
              " ('in', 3908),\n",
              " ('that', 2978),\n",
              " ('his', 2459),\n",
              " ('it', 2196),\n",
              " ('I', 2113),\n",
              " ('!', 1767),\n",
              " ('is', 1722),\n",
              " ('--', 1713),\n",
              " ('with', 1659),\n",
              " ('he', 1658),\n",
              " ('was', 1639),\n",
              " ('as', 1620)]"
            ]
          },
          "metadata": {},
          "execution_count": 66
        }
      ],
      "source": [
        "def answer_three():\n",
        "    from nltk.corpus.reader.wordnet import FreqDist\n",
        "    from operator import itemgetter\n",
        "    \n",
        "    return sorted(FreqDist(text1).items(), reverse=True, key=itemgetter(1))[:20]\n",
        "\n",
        "answer_three()"
      ]
    },
    {
      "cell_type": "markdown",
      "metadata": {
        "id": "pSxpjb7rz6ku"
      },
      "source": [
        "### Question 4\n",
        "\n",
        "What tokens have a length of greater than 5 and frequency of more than 150?\n",
        "\n",
        "*This function should return an alphabetically sorted list of the tokens that match the above constraints. To sort your list, use `sorted()`*"
      ]
    },
    {
      "cell_type": "code",
      "execution_count": 70,
      "metadata": {
        "collapsed": true,
        "colab": {
          "base_uri": "https://localhost:8080/"
        },
        "id": "vTJCyQ6pz6ku",
        "outputId": "0066438a-dfaf-4276-88cf-7aa9ac15d2a8"
      },
      "outputs": [
        {
          "output_type": "execute_result",
          "data": {
            "text/plain": [
              "['Captain',\n",
              " 'Pequod',\n",
              " 'Queequeg',\n",
              " 'Starbuck',\n",
              " 'almost',\n",
              " 'before',\n",
              " 'himself',\n",
              " 'little',\n",
              " 'seemed',\n",
              " 'should',\n",
              " 'though',\n",
              " 'through',\n",
              " 'whales',\n",
              " 'without']"
            ]
          },
          "metadata": {},
          "execution_count": 70
        }
      ],
      "source": [
        "def answer_four():\n",
        "    from nltk.corpus.reader.wordnet import FreqDist\n",
        "    \n",
        "    return sorted([t for t, f in FreqDist(text1).items() if len(t)>5 and f>150])\n",
        "\n",
        "answer_four()"
      ]
    },
    {
      "cell_type": "markdown",
      "metadata": {
        "id": "NWkKi-Crz6ku"
      },
      "source": [
        "### Question 5\n",
        "\n",
        "Find the longest word in text1 and that word's length.\n",
        "\n",
        "*This function should return a tuple `(longest_word, length)`.*"
      ]
    },
    {
      "cell_type": "code",
      "execution_count": 77,
      "metadata": {
        "collapsed": true,
        "colab": {
          "base_uri": "https://localhost:8080/"
        },
        "id": "X5V1wTx_z6ku",
        "outputId": "423a56ab-11d2-46a9-9189-44f5ec47f5c2"
      },
      "outputs": [
        {
          "output_type": "execute_result",
          "data": {
            "text/plain": [
              "(\"twelve-o'clock-at-night\", 23)"
            ]
          },
          "metadata": {},
          "execution_count": 77
        }
      ],
      "source": [
        "def answer_five():\n",
        "    from nltk.corpus.reader.wordnet import FreqDist\n",
        "    from operator import itemgetter\n",
        "\n",
        "    return sorted([(t, len(t)) for t, _ in FreqDist(text1).items()],\n",
        "                  key=itemgetter(1))[-1]\n",
        "\n",
        "answer_five()"
      ]
    },
    {
      "cell_type": "markdown",
      "metadata": {
        "id": "R8Gyrz9vz6ku"
      },
      "source": [
        "### Question 6\n",
        "\n",
        "What unique words have a frequency of more than 2000? What is their frequency?\n",
        "\n",
        "\"Hint:  you may want to use `isalpha()` to check if the token is a word and not punctuation.\"\n",
        "\n",
        "*This function should return a list of tuples of the form `(frequency, word)` sorted in descending order of frequency.*"
      ]
    },
    {
      "cell_type": "code",
      "execution_count": 85,
      "metadata": {
        "collapsed": true,
        "colab": {
          "base_uri": "https://localhost:8080/"
        },
        "id": "QT6Ffbggz6ku",
        "outputId": "e0d5e7cc-c3d2-4fd8-a6c6-1409c59a8a8b"
      },
      "outputs": [
        {
          "output_type": "execute_result",
          "data": {
            "text/plain": [
              "[(13715, 'the'),\n",
              " (6513, 'of'),\n",
              " (6010, 'and'),\n",
              " (4545, 'a'),\n",
              " (4515, 'to'),\n",
              " (3908, 'in'),\n",
              " (2978, 'that'),\n",
              " (2459, 'his'),\n",
              " (2196, 'it'),\n",
              " (2113, 'I')]"
            ]
          },
          "metadata": {},
          "execution_count": 85
        }
      ],
      "source": [
        "def answer_six():\n",
        "    from nltk.corpus.reader.wordnet import FreqDist\n",
        "    from operator import itemgetter\n",
        "    \n",
        "    return sorted([(f, t) for t, f in \n",
        "                   FreqDist(text1).items() if t.isalpha() and f>2000], \n",
        "                  key=itemgetter(0), reverse=True)\n",
        "\n",
        "answer_six()"
      ]
    },
    {
      "cell_type": "markdown",
      "metadata": {
        "id": "Bjvz36N9z6ku"
      },
      "source": [
        "### Question 7\n",
        "\n",
        "What is the average number of tokens per sentence?\n",
        "\n",
        "*This function should return a float.*"
      ]
    },
    {
      "cell_type": "code",
      "execution_count": 89,
      "metadata": {
        "collapsed": true,
        "colab": {
          "base_uri": "https://localhost:8080/"
        },
        "id": "PqBM-O0Oz6ku",
        "outputId": "4d4c1c38-cee0-41a6-b082-6f9f0ef2ea46"
      },
      "outputs": [
        {
          "output_type": "execute_result",
          "data": {
            "text/plain": [
              "25.88591149005278"
            ]
          },
          "metadata": {},
          "execution_count": 89
        }
      ],
      "source": [
        "def answer_seven():\n",
        "    from nltk.corpus.reader.tagged import sent_tokenize\n",
        "    sentences = sent_tokenize(moby_raw)\n",
        "    \n",
        "    return np.mean([len(nltk.word_tokenize(sent)) for sent in sentences])\n",
        "\n",
        "answer_seven()"
      ]
    },
    {
      "cell_type": "markdown",
      "metadata": {
        "id": "1zLAbpxYz6ku"
      },
      "source": [
        "### Question 8\n",
        "\n",
        "What are the 5 most frequent parts of speech in this text? What is their frequency?\n",
        "\n",
        "*This function should return a list of tuples of the form `(part_of_speech, frequency)` sorted in descending order of frequency.*"
      ]
    },
    {
      "cell_type": "code",
      "execution_count": 111,
      "metadata": {
        "collapsed": true,
        "colab": {
          "base_uri": "https://localhost:8080/"
        },
        "id": "F01fJLfSz6ku",
        "outputId": "bc852284-ac73-4e15-8954-b7113925fe1a"
      },
      "outputs": [
        {
          "output_type": "execute_result",
          "data": {
            "text/plain": [
              "[('NN', 32727), ('IN', 28662), ('DT', 25879), (',', 19204), ('JJ', 17613)]"
            ]
          },
          "metadata": {},
          "execution_count": 111
        }
      ],
      "source": [
        "def answer_eight():\n",
        "    from nltk.corpus.reader.wordnet import FreqDist\n",
        "    from operator import itemgetter\n",
        "\n",
        "    tags = nltk.pos_tag(text1)\n",
        "    return sorted([(pos, f) for pos, f in \n",
        "                   FreqDist(tag for (t, tag) in tags).items()], \n",
        "                  key=itemgetter(1), reverse=True)[:5]\n",
        "\n",
        "answer_eight()"
      ]
    },
    {
      "cell_type": "markdown",
      "metadata": {
        "id": "h1Ra0Myez6ku"
      },
      "source": [
        "## Part 2 - Spelling Recommender\n",
        "\n",
        "For this part of the assignment you will create three different spelling recommenders, that each take a list of misspelled words and recommends a correctly spelled word for every word in the list.\n",
        "\n",
        "For every misspelled word, the recommender should find find the word in `correct_spellings` that has the shortest distance*, and starts with the same letter as the misspelled word, and return that word as a recommendation.\n",
        "\n",
        "*Each of the three different recommenders will use a different distance measure (outlined below).\n",
        "\n",
        "Each of the recommenders should provide recommendations for the three default words provided: `['cormulent', 'incendenece', 'validrate']`."
      ]
    },
    {
      "cell_type": "code",
      "execution_count": 114,
      "metadata": {
        "collapsed": true,
        "id": "j1o2cBvfz6ku"
      },
      "outputs": [],
      "source": [
        "from nltk.corpus import words\n",
        "\n",
        "correct_spellings = words.words()"
      ]
    },
    {
      "cell_type": "markdown",
      "metadata": {
        "id": "rM5ByUH3z6ku"
      },
      "source": [
        "### Question 9\n",
        "\n",
        "For this recommender, your function should provide recommendations for the three default words provided above using the following distance metric:\n",
        "\n",
        "**[Jaccard distance](https://en.wikipedia.org/wiki/Jaccard_index) on the trigrams of the two words.**\n",
        "\n",
        "*This function should return a list of length three:\n",
        "`['cormulent_reccomendation', 'incendenece_reccomendation', 'validrate_reccomendation']`.*"
      ]
    },
    {
      "cell_type": "code",
      "execution_count": 142,
      "metadata": {
        "collapsed": true,
        "colab": {
          "base_uri": "https://localhost:8080/"
        },
        "id": "Ymydk4Y5z6ku",
        "outputId": "e70926f2-ec41-44d1-8bea-664f764f724b"
      },
      "outputs": [
        {
          "output_type": "execute_result",
          "data": {
            "text/plain": [
              "['corpulent', 'indecence', 'validate']"
            ]
          },
          "metadata": {},
          "execution_count": 142
        }
      ],
      "source": [
        "def answer_nine(entries=['cormulent', 'incendenece', 'validrate']):\n",
        "    from operator import itemgetter\n",
        "\n",
        "    res = list()\n",
        "\n",
        "    for entry in entries:\n",
        "      spellings = [spell for spell in correct_spellings \n",
        "                   if spell.startswith(entry[0])]\n",
        "\n",
        "      dist = [(spell, \n",
        "              nltk.jaccard_distance(\n",
        "                  set(nltk.ngrams(entry, 3)),\n",
        "                  set(nltk.ngrams(spell, 3)))) for spell in spellings]\n",
        "\n",
        "      res.append(sorted(dist, key=itemgetter(1))[0][0])\n",
        "    \n",
        "\n",
        "    return res\n",
        "    \n",
        "answer_nine()"
      ]
    },
    {
      "cell_type": "markdown",
      "metadata": {
        "id": "4mDFgC1Kz6ku"
      },
      "source": [
        "### Question 10\n",
        "\n",
        "For this recommender, your function should provide recommendations for the three default words provided above using the following distance metric:\n",
        "\n",
        "**[Jaccard distance](https://en.wikipedia.org/wiki/Jaccard_index) on the 4-grams of the two words.**\n",
        "\n",
        "*This function should return a list of length three:\n",
        "`['cormulent_reccomendation', 'incendenece_reccomendation', 'validrate_reccomendation']`.*"
      ]
    },
    {
      "cell_type": "code",
      "execution_count": 143,
      "metadata": {
        "collapsed": true,
        "colab": {
          "base_uri": "https://localhost:8080/"
        },
        "id": "ZdIiWTXBz6ku",
        "outputId": "5059bb99-5504-4f71-941d-7d110fa81418"
      },
      "outputs": [
        {
          "output_type": "execute_result",
          "data": {
            "text/plain": [
              "['cormus', 'incendiary', 'valid']"
            ]
          },
          "metadata": {},
          "execution_count": 143
        }
      ],
      "source": [
        "def answer_ten(entries=['cormulent', 'incendenece', 'validrate']):\n",
        "    from operator import itemgetter\n",
        "\n",
        "    res = list()\n",
        "\n",
        "    for entry in entries:\n",
        "      spellings = [spell for spell in correct_spellings \n",
        "                   if spell.startswith(entry[0])]\n",
        "\n",
        "      dist = [(spell, \n",
        "              nltk.jaccard_distance(\n",
        "                  set(nltk.ngrams(entry, 4)),\n",
        "                  set(nltk.ngrams(spell, 4)))) for spell in spellings]\n",
        "\n",
        "      res.append(sorted(dist, key=itemgetter(1))[0][0])\n",
        "    \n",
        "    \n",
        "    return res\n",
        "    \n",
        "answer_ten()"
      ]
    },
    {
      "cell_type": "markdown",
      "metadata": {
        "id": "SnKxESJnz6ku"
      },
      "source": [
        "### Question 11\n",
        "\n",
        "For this recommender, your function should provide recommendations for the three default words provided above using the following distance metric:\n",
        "\n",
        "**[Edit distance on the two words with transpositions.](https://en.wikipedia.org/wiki/Damerau%E2%80%93Levenshtein_distance)**\n",
        "\n",
        "*This function should return a list of length three:\n",
        "`['cormulent_reccomendation', 'incendenece_reccomendation', 'validrate_reccomendation']`.*"
      ]
    },
    {
      "cell_type": "code",
      "execution_count": 145,
      "metadata": {
        "collapsed": true,
        "colab": {
          "base_uri": "https://localhost:8080/"
        },
        "id": "m4ySwR5Sz6ku",
        "outputId": "8ed79090-ed83-4134-a7d3-076fbcb71766"
      },
      "outputs": [
        {
          "output_type": "execute_result",
          "data": {
            "text/plain": [
              "['corpulent', 'intendence', 'validate']"
            ]
          },
          "metadata": {},
          "execution_count": 145
        }
      ],
      "source": [
        "def answer_eleven(entries=['cormulent', 'incendenece', 'validrate']):\n",
        "    from operator import itemgetter\n",
        "\n",
        "    res = list()\n",
        "\n",
        "    for entry in entries:\n",
        "      spellings = [spell for spell in correct_spellings \n",
        "                   if spell.startswith(entry[0])]\n",
        "\n",
        "      dist = [(spell, \n",
        "              nltk.edit_distance(entry, spell, transpositions=True))\n",
        "              for spell in spellings]\n",
        "\n",
        "      res.append(sorted(dist, key=itemgetter(1))[0][0])\n",
        "    \n",
        "    \n",
        "    return res\n",
        "    \n",
        "answer_eleven()"
      ]
    }
  ],
  "metadata": {
    "coursera": {
      "course_slug": "python-text-mining",
      "graded_item_id": "r35En",
      "launcher_item_id": "tCVfW",
      "part_id": "NTVgL"
    },
    "kernelspec": {
      "display_name": "Python 3",
      "language": "python",
      "name": "python3"
    },
    "language_info": {
      "codemirror_mode": {
        "name": "ipython",
        "version": 3
      },
      "file_extension": ".py",
      "mimetype": "text/x-python",
      "name": "python",
      "nbconvert_exporter": "python",
      "pygments_lexer": "ipython3",
      "version": "3.6.2"
    },
    "colab": {
      "name": "Assignment+2.ipynb",
      "provenance": [],
      "collapsed_sections": []
    }
  },
  "nbformat": 4,
  "nbformat_minor": 0
}