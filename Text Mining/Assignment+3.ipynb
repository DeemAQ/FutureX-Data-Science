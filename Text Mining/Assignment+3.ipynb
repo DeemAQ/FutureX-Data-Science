{
  "cells": [
    {
      "cell_type": "markdown",
      "metadata": {
        "id": "4AoR0-fy78c0"
      },
      "source": [
        "---\n",
        "\n",
        "_You are currently looking at **version 1.1** of this notebook. To download notebooks and datafiles, as well as get help on Jupyter notebooks in the Coursera platform, visit the [Jupyter Notebook FAQ](https://www.coursera.org/learn/python-text-mining/resources/d9pwm) course resource._\n",
        "\n",
        "---"
      ]
    },
    {
      "cell_type": "markdown",
      "metadata": {
        "id": "DPwp3Vcz78c0"
      },
      "source": [
        "# Assignment 3\n",
        "\n",
        "In this assignment you will explore text message data and create models to predict if a message is spam or not. "
      ]
    },
    {
      "cell_type": "code",
      "source": [
        "from google.colab import drive\n",
        "drive.mount('/content/drive')"
      ],
      "metadata": {
        "colab": {
          "base_uri": "https://localhost:8080/"
        },
        "id": "enI_Uw_TIj0K",
        "outputId": "62029514-7ad7-4ed2-f307-73cf4de31e4a"
      },
      "execution_count": 164,
      "outputs": [
        {
          "output_type": "stream",
          "name": "stdout",
          "text": [
            "Drive already mounted at /content/drive; to attempt to forcibly remount, call drive.mount(\"/content/drive\", force_remount=True).\n"
          ]
        }
      ]
    },
    {
      "cell_type": "code",
      "execution_count": 165,
      "metadata": {
        "collapsed": true,
        "colab": {
          "base_uri": "https://localhost:8080/",
          "height": 363
        },
        "id": "aW-K3Id678c0",
        "outputId": "4769a22f-2f2b-4f93-f4e6-81beac19b01d"
      },
      "outputs": [
        {
          "output_type": "execute_result",
          "data": {
            "text/plain": [
              "                                                text  target\n",
              "0  Go until jurong point, crazy.. Available only ...       0\n",
              "1                      Ok lar... Joking wif u oni...       0\n",
              "2  Free entry in 2 a wkly comp to win FA Cup fina...       1\n",
              "3  U dun say so early hor... U c already then say...       0\n",
              "4  Nah I don't think he goes to usf, he lives aro...       0\n",
              "5  FreeMsg Hey there darling it's been 3 week's n...       1\n",
              "6  Even my brother is not like to speak with me. ...       0\n",
              "7  As per your request 'Melle Melle (Oru Minnamin...       0\n",
              "8  WINNER!! As a valued network customer you have...       1\n",
              "9  Had your mobile 11 months or more? U R entitle...       1"
            ],
            "text/html": [
              "\n",
              "  <div id=\"df-ddf2e379-418c-4de5-8910-57ef028294c1\">\n",
              "    <div class=\"colab-df-container\">\n",
              "      <div>\n",
              "<style scoped>\n",
              "    .dataframe tbody tr th:only-of-type {\n",
              "        vertical-align: middle;\n",
              "    }\n",
              "\n",
              "    .dataframe tbody tr th {\n",
              "        vertical-align: top;\n",
              "    }\n",
              "\n",
              "    .dataframe thead th {\n",
              "        text-align: right;\n",
              "    }\n",
              "</style>\n",
              "<table border=\"1\" class=\"dataframe\">\n",
              "  <thead>\n",
              "    <tr style=\"text-align: right;\">\n",
              "      <th></th>\n",
              "      <th>text</th>\n",
              "      <th>target</th>\n",
              "    </tr>\n",
              "  </thead>\n",
              "  <tbody>\n",
              "    <tr>\n",
              "      <th>0</th>\n",
              "      <td>Go until jurong point, crazy.. Available only ...</td>\n",
              "      <td>0</td>\n",
              "    </tr>\n",
              "    <tr>\n",
              "      <th>1</th>\n",
              "      <td>Ok lar... Joking wif u oni...</td>\n",
              "      <td>0</td>\n",
              "    </tr>\n",
              "    <tr>\n",
              "      <th>2</th>\n",
              "      <td>Free entry in 2 a wkly comp to win FA Cup fina...</td>\n",
              "      <td>1</td>\n",
              "    </tr>\n",
              "    <tr>\n",
              "      <th>3</th>\n",
              "      <td>U dun say so early hor... U c already then say...</td>\n",
              "      <td>0</td>\n",
              "    </tr>\n",
              "    <tr>\n",
              "      <th>4</th>\n",
              "      <td>Nah I don't think he goes to usf, he lives aro...</td>\n",
              "      <td>0</td>\n",
              "    </tr>\n",
              "    <tr>\n",
              "      <th>5</th>\n",
              "      <td>FreeMsg Hey there darling it's been 3 week's n...</td>\n",
              "      <td>1</td>\n",
              "    </tr>\n",
              "    <tr>\n",
              "      <th>6</th>\n",
              "      <td>Even my brother is not like to speak with me. ...</td>\n",
              "      <td>0</td>\n",
              "    </tr>\n",
              "    <tr>\n",
              "      <th>7</th>\n",
              "      <td>As per your request 'Melle Melle (Oru Minnamin...</td>\n",
              "      <td>0</td>\n",
              "    </tr>\n",
              "    <tr>\n",
              "      <th>8</th>\n",
              "      <td>WINNER!! As a valued network customer you have...</td>\n",
              "      <td>1</td>\n",
              "    </tr>\n",
              "    <tr>\n",
              "      <th>9</th>\n",
              "      <td>Had your mobile 11 months or more? U R entitle...</td>\n",
              "      <td>1</td>\n",
              "    </tr>\n",
              "  </tbody>\n",
              "</table>\n",
              "</div>\n",
              "      <button class=\"colab-df-convert\" onclick=\"convertToInteractive('df-ddf2e379-418c-4de5-8910-57ef028294c1')\"\n",
              "              title=\"Convert this dataframe to an interactive table.\"\n",
              "              style=\"display:none;\">\n",
              "        \n",
              "  <svg xmlns=\"http://www.w3.org/2000/svg\" height=\"24px\"viewBox=\"0 0 24 24\"\n",
              "       width=\"24px\">\n",
              "    <path d=\"M0 0h24v24H0V0z\" fill=\"none\"/>\n",
              "    <path d=\"M18.56 5.44l.94 2.06.94-2.06 2.06-.94-2.06-.94-.94-2.06-.94 2.06-2.06.94zm-11 1L8.5 8.5l.94-2.06 2.06-.94-2.06-.94L8.5 2.5l-.94 2.06-2.06.94zm10 10l.94 2.06.94-2.06 2.06-.94-2.06-.94-.94-2.06-.94 2.06-2.06.94z\"/><path d=\"M17.41 7.96l-1.37-1.37c-.4-.4-.92-.59-1.43-.59-.52 0-1.04.2-1.43.59L10.3 9.45l-7.72 7.72c-.78.78-.78 2.05 0 2.83L4 21.41c.39.39.9.59 1.41.59.51 0 1.02-.2 1.41-.59l7.78-7.78 2.81-2.81c.8-.78.8-2.07 0-2.86zM5.41 20L4 18.59l7.72-7.72 1.47 1.35L5.41 20z\"/>\n",
              "  </svg>\n",
              "      </button>\n",
              "      \n",
              "  <style>\n",
              "    .colab-df-container {\n",
              "      display:flex;\n",
              "      flex-wrap:wrap;\n",
              "      gap: 12px;\n",
              "    }\n",
              "\n",
              "    .colab-df-convert {\n",
              "      background-color: #E8F0FE;\n",
              "      border: none;\n",
              "      border-radius: 50%;\n",
              "      cursor: pointer;\n",
              "      display: none;\n",
              "      fill: #1967D2;\n",
              "      height: 32px;\n",
              "      padding: 0 0 0 0;\n",
              "      width: 32px;\n",
              "    }\n",
              "\n",
              "    .colab-df-convert:hover {\n",
              "      background-color: #E2EBFA;\n",
              "      box-shadow: 0px 1px 2px rgba(60, 64, 67, 0.3), 0px 1px 3px 1px rgba(60, 64, 67, 0.15);\n",
              "      fill: #174EA6;\n",
              "    }\n",
              "\n",
              "    [theme=dark] .colab-df-convert {\n",
              "      background-color: #3B4455;\n",
              "      fill: #D2E3FC;\n",
              "    }\n",
              "\n",
              "    [theme=dark] .colab-df-convert:hover {\n",
              "      background-color: #434B5C;\n",
              "      box-shadow: 0px 1px 3px 1px rgba(0, 0, 0, 0.15);\n",
              "      filter: drop-shadow(0px 1px 2px rgba(0, 0, 0, 0.3));\n",
              "      fill: #FFFFFF;\n",
              "    }\n",
              "  </style>\n",
              "\n",
              "      <script>\n",
              "        const buttonEl =\n",
              "          document.querySelector('#df-ddf2e379-418c-4de5-8910-57ef028294c1 button.colab-df-convert');\n",
              "        buttonEl.style.display =\n",
              "          google.colab.kernel.accessAllowed ? 'block' : 'none';\n",
              "\n",
              "        async function convertToInteractive(key) {\n",
              "          const element = document.querySelector('#df-ddf2e379-418c-4de5-8910-57ef028294c1');\n",
              "          const dataTable =\n",
              "            await google.colab.kernel.invokeFunction('convertToInteractive',\n",
              "                                                     [key], {});\n",
              "          if (!dataTable) return;\n",
              "\n",
              "          const docLinkHtml = 'Like what you see? Visit the ' +\n",
              "            '<a target=\"_blank\" href=https://colab.research.google.com/notebooks/data_table.ipynb>data table notebook</a>'\n",
              "            + ' to learn more about interactive tables.';\n",
              "          element.innerHTML = '';\n",
              "          dataTable['output_type'] = 'display_data';\n",
              "          await google.colab.output.renderOutput(dataTable, element);\n",
              "          const docLink = document.createElement('div');\n",
              "          docLink.innerHTML = docLinkHtml;\n",
              "          element.appendChild(docLink);\n",
              "        }\n",
              "      </script>\n",
              "    </div>\n",
              "  </div>\n",
              "  "
            ]
          },
          "metadata": {},
          "execution_count": 165
        }
      ],
      "source": [
        "import pandas as pd\n",
        "import numpy as np\n",
        "\n",
        "spam_data = pd.read_csv('/content/drive/MyDrive/spam.csv')\n",
        "\n",
        "spam_data['target'] = np.where(spam_data['target']=='spam',1,0)\n",
        "spam_data.head(10)"
      ]
    },
    {
      "cell_type": "code",
      "execution_count": 166,
      "metadata": {
        "collapsed": true,
        "id": "4QnhT8va78c0"
      },
      "outputs": [],
      "source": [
        "from sklearn.model_selection import train_test_split\n",
        "\n",
        "\n",
        "X_train, X_test, y_train, y_test = train_test_split(spam_data['text'], \n",
        "                                                    spam_data['target'], \n",
        "                                                    random_state=0)"
      ]
    },
    {
      "cell_type": "markdown",
      "metadata": {
        "id": "XCG7tGHL78c0"
      },
      "source": [
        "### Question 1\n",
        "What percentage of the documents in `spam_data` are spam?\n",
        "\n",
        "*This function should return a float, the percent value (i.e. $ratio * 100$).*"
      ]
    },
    {
      "cell_type": "code",
      "execution_count": 240,
      "metadata": {
        "collapsed": true,
        "id": "CPt3yx1A78c0"
      },
      "outputs": [],
      "source": [
        "def answer_one():\n",
        "    \n",
        "    return (len(spam_data[spam_data.target==1])/len(spam_data))*100"
      ]
    },
    {
      "cell_type": "code",
      "execution_count": 241,
      "metadata": {
        "collapsed": true,
        "colab": {
          "base_uri": "https://localhost:8080/"
        },
        "id": "2qKOIIRt78c0",
        "outputId": "21019008-4bae-4738-e05f-31854b1a5955"
      },
      "outputs": [
        {
          "output_type": "execute_result",
          "data": {
            "text/plain": [
              "13.406317300789663"
            ]
          },
          "metadata": {},
          "execution_count": 241
        }
      ],
      "source": [
        "answer_one()"
      ]
    },
    {
      "cell_type": "markdown",
      "metadata": {
        "id": "br6QsFW278c0"
      },
      "source": [
        "### Question 2\n",
        "\n",
        "Fit the training data `X_train` using a Count Vectorizer with default parameters.\n",
        "\n",
        "What is the longest token in the vocabulary?\n",
        "\n",
        "*This function should return a string.*"
      ]
    },
    {
      "cell_type": "code",
      "execution_count": 242,
      "metadata": {
        "collapsed": true,
        "id": "xLbWx7aS78c0"
      },
      "outputs": [],
      "source": [
        "from sklearn.feature_extraction.text import CountVectorizer\n",
        "from operator import itemgetter\n",
        "\n",
        "def answer_two():\n",
        "    vect = CountVectorizer().fit(X_train)\n",
        "    \n",
        "    return sorted([(t, len(t)) for t in vect.vocabulary_.keys()], \n",
        "                  key=itemgetter(1))[-1][0]"
      ]
    },
    {
      "cell_type": "code",
      "execution_count": 243,
      "metadata": {
        "collapsed": true,
        "colab": {
          "base_uri": "https://localhost:8080/",
          "height": 35
        },
        "id": "z1WFTHNz78c0",
        "outputId": "cfc0a9ca-8a91-4be2-a4e5-1bb125b0c8e8"
      },
      "outputs": [
        {
          "output_type": "execute_result",
          "data": {
            "text/plain": [
              "'com1win150ppmx3age16subscription'"
            ],
            "application/vnd.google.colaboratory.intrinsic+json": {
              "type": "string"
            }
          },
          "metadata": {},
          "execution_count": 243
        }
      ],
      "source": [
        "answer_two()"
      ]
    },
    {
      "cell_type": "markdown",
      "metadata": {
        "id": "vpfpwanj78c0"
      },
      "source": [
        "### Question 3\n",
        "\n",
        "Fit and transform the training data `X_train` using a Count Vectorizer with default parameters.\n",
        "\n",
        "Next, fit a fit a multinomial Naive Bayes classifier model with smoothing `alpha=0.1`. Find the area under the curve (AUC) score using the transformed test data.\n",
        "\n",
        "*This function should return the AUC score as a float.*"
      ]
    },
    {
      "cell_type": "code",
      "execution_count": 171,
      "metadata": {
        "collapsed": true,
        "id": "AXbAAAYV78c0"
      },
      "outputs": [],
      "source": [
        "from sklearn.naive_bayes import MultinomialNB\n",
        "from sklearn.metrics import roc_auc_score\n",
        "\n",
        "def answer_three():\n",
        "    vect = CountVectorizer()\n",
        "    X_train_trans = vect.fit_transform(X_train)\n",
        "    X_test_trans = vect.transform(X_test)\n",
        "\n",
        "    mnb = MultinomialNB(alpha=0.1).fit(X_train_trans, y_train)\n",
        "    y_hat = mnb.predict(X_test_trans)\n",
        "    \n",
        "    return roc_auc_score(y_test, y_hat)"
      ]
    },
    {
      "cell_type": "code",
      "execution_count": 172,
      "metadata": {
        "collapsed": true,
        "colab": {
          "base_uri": "https://localhost:8080/"
        },
        "id": "RdhOsXwt78c0",
        "outputId": "9e8d4886-f1c6-4aa2-dc08-23dd138a56ef"
      },
      "outputs": [
        {
          "output_type": "execute_result",
          "data": {
            "text/plain": [
              "0.9720812182741116"
            ]
          },
          "metadata": {},
          "execution_count": 172
        }
      ],
      "source": [
        "answer_three()"
      ]
    },
    {
      "cell_type": "markdown",
      "metadata": {
        "id": "5GiNxBnd78c0"
      },
      "source": [
        "### Question 4\n",
        "\n",
        "Fit and transform the training data `X_train` using a Tfidf Vectorizer with default parameters.\n",
        "\n",
        "What 20 features have the smallest tf-idf and what 20 have the largest tf-idf?\n",
        "\n",
        "Put these features in a two series where each series is sorted by tf-idf value and then alphabetically by feature name. The index of the series should be the feature name, and the data should be the tf-idf.\n",
        "\n",
        "The series of 20 features with smallest tf-idfs should be sorted smallest tfidf first, the list of 20 features with largest tf-idfs should be sorted largest first. \n",
        "\n",
        "*This function should return a tuple of two series\n",
        "`(smallest tf-idfs series, largest tf-idfs series)`.*"
      ]
    },
    {
      "cell_type": "code",
      "execution_count": 258,
      "metadata": {
        "collapsed": true,
        "id": "eBCkTb5X78c0"
      },
      "outputs": [],
      "source": [
        "from sklearn.feature_extraction.text import TfidfVectorizer\n",
        "from operator import itemgetter\n",
        "\n",
        "def answer_four():\n",
        "    tfidf = TfidfVectorizer()\n",
        "    X_train_trans = tfidf.fit_transform(X_train)\n",
        "\n",
        "    data = sorted([(feature, idf) for feature, idf in \n",
        "                                      zip(tfidf.get_feature_names_out(), \n",
        "                                          tfidf.idf_)], \n",
        "                                      key=itemgetter(1))\n",
        "    smallest_tfidf = pd.Series([d[1] for d in data[:20]], index=[d[0] for d in data[:20]])\n",
        "    largest_tfidf = pd.Series([d[1] for d in data[-21:-1]], index=[d[0] for d in data[-21:-1]])\n",
        "\n",
        "    return (smallest_tfidf, largest_tfidf)"
      ]
    },
    {
      "cell_type": "code",
      "execution_count": 259,
      "metadata": {
        "collapsed": true,
        "colab": {
          "base_uri": "https://localhost:8080/"
        },
        "id": "Vr4wLgVf78c0",
        "outputId": "fe93e2ed-fc14-41ef-88ff-a9e93908d7ce"
      },
      "outputs": [
        {
          "output_type": "execute_result",
          "data": {
            "text/plain": [
              "(to      2.198406\n",
              " you     2.265645\n",
              " the     2.707383\n",
              " in      2.890761\n",
              " and     2.976764\n",
              " is      3.003012\n",
              " me      3.111530\n",
              " for     3.206840\n",
              " it      3.222174\n",
              " my      3.231044\n",
              " call    3.297812\n",
              " your    3.300196\n",
              " of      3.319473\n",
              " have    3.354130\n",
              " that    3.408477\n",
              " on      3.463136\n",
              " now     3.465949\n",
              " can     3.545053\n",
              " are     3.560414\n",
              " so      3.566625\n",
              " dtype: float64, yuo         8.644919\n",
              " yuou        8.644919\n",
              " yupz        8.644919\n",
              " zac         8.644919\n",
              " zealand     8.644919\n",
              " zebra       8.644919\n",
              " zeros       8.644919\n",
              " zhong       8.644919\n",
              " zindgi      8.644919\n",
              " zoe         8.644919\n",
              " zouk        8.644919\n",
              " zyada       8.644919\n",
              " åè10        8.644919\n",
              " åòit        8.644919\n",
              " åôrents     8.644919\n",
              " ì¼1         8.644919\n",
              " ó_          8.644919\n",
              " û_thanks    8.644919\n",
              " ûï          8.644919\n",
              " ûïharry     8.644919\n",
              " dtype: float64)"
            ]
          },
          "metadata": {},
          "execution_count": 259
        }
      ],
      "source": [
        "answer_four()"
      ]
    },
    {
      "cell_type": "markdown",
      "metadata": {
        "id": "Jh-ZXynK78c0"
      },
      "source": [
        "### Question 5\n",
        "\n",
        "Fit and transform the training data `X_train` using a Tfidf Vectorizer ignoring terms that have a document frequency strictly lower than **3**.\n",
        "\n",
        "Then fit a multinomial Naive Bayes classifier model with smoothing `alpha=0.1` and compute the area under the curve (AUC) score using the transformed test data.\n",
        "\n",
        "*This function should return the AUC score as a float.*"
      ]
    },
    {
      "cell_type": "code",
      "execution_count": 175,
      "metadata": {
        "collapsed": true,
        "id": "lIS3fK-t78c0"
      },
      "outputs": [],
      "source": [
        "from sklearn.feature_extraction.text import TfidfVectorizer\n",
        "from sklearn.naive_bayes import MultinomialNB\n",
        "from sklearn.metrics import roc_auc_score\n",
        "\n",
        "\n",
        "def answer_five():\n",
        "    tfidf = TfidfVectorizer(min_df=3)\n",
        "    X_train_trans = tfidf.fit_transform(X_train)\n",
        "    X_test_trans = tfidf.transform(X_test)\n",
        "    \n",
        "    mnb = MultinomialNB(alpha=0.1).fit(X_train_trans, y_train)\n",
        "    y_hat = mnb.predict(X_test_trans)\n",
        "    \n",
        "    return roc_auc_score(y_test, y_hat)"
      ]
    },
    {
      "cell_type": "code",
      "execution_count": 176,
      "metadata": {
        "collapsed": true,
        "colab": {
          "base_uri": "https://localhost:8080/"
        },
        "id": "ZMQm6tzU78dE",
        "outputId": "922e6548-13db-4e2e-b30b-bda608db0c6b"
      },
      "outputs": [
        {
          "output_type": "execute_result",
          "data": {
            "text/plain": [
              "0.9416243654822335"
            ]
          },
          "metadata": {},
          "execution_count": 176
        }
      ],
      "source": [
        "answer_five()"
      ]
    },
    {
      "cell_type": "markdown",
      "metadata": {
        "id": "CxzODv_l78dE"
      },
      "source": [
        "### Question 6\n",
        "\n",
        "What is the average length of documents (number of characters) for not spam and spam documents?\n",
        "\n",
        "*This function should return a tuple (average length not spam, average length spam).*"
      ]
    },
    {
      "cell_type": "code",
      "execution_count": 177,
      "metadata": {
        "collapsed": true,
        "id": "TxHOqLn978dE"
      },
      "outputs": [],
      "source": [
        "def answer_six():\n",
        "    num_char = pd.DataFrame(spam_data[\"text\"].apply(lambda x: len(x)).values, \n",
        "                        index=spam_data.target)\n",
        "    avg = num_char.groupby(\"target\").mean()\n",
        "    \n",
        "    return (avg.values[0][0], avg.values[1][0])"
      ]
    },
    {
      "cell_type": "code",
      "execution_count": 178,
      "metadata": {
        "collapsed": true,
        "colab": {
          "base_uri": "https://localhost:8080/"
        },
        "id": "LtOTfCVa78dE",
        "outputId": "ec21e459-85e9-4db4-9e86-2828a339f836"
      },
      "outputs": [
        {
          "output_type": "execute_result",
          "data": {
            "text/plain": [
              "(71.02362694300518, 138.8661311914324)"
            ]
          },
          "metadata": {},
          "execution_count": 178
        }
      ],
      "source": [
        "answer_six()"
      ]
    },
    {
      "cell_type": "markdown",
      "metadata": {
        "id": "GRAUVm0V78dE"
      },
      "source": [
        "<br>\n",
        "<br>\n",
        "The following function has been provided to help you combine new features into the training data:"
      ]
    },
    {
      "cell_type": "code",
      "execution_count": 179,
      "metadata": {
        "collapsed": true,
        "id": "Mf0xUVp478dE"
      },
      "outputs": [],
      "source": [
        "def add_feature(X, feature_to_add):\n",
        "    \"\"\"\n",
        "    Returns sparse feature matrix with added feature.\n",
        "    feature_to_add can also be a list of features.\n",
        "    \"\"\"\n",
        "    from scipy.sparse import csr_matrix, hstack\n",
        "    return hstack([X, csr_matrix(feature_to_add).T], 'csr')"
      ]
    },
    {
      "cell_type": "markdown",
      "metadata": {
        "id": "udhhjKA978dE"
      },
      "source": [
        "### Question 7\n",
        "\n",
        "Fit and transform the training data X_train using a Tfidf Vectorizer ignoring terms that have a document frequency strictly lower than **5**.\n",
        "\n",
        "Using this document-term matrix and an additional feature, **the length of document (number of characters)**, fit a Support Vector Classification model with regularization `C=10000`. Then compute the area under the curve (AUC) score using the transformed test data.\n",
        "\n",
        "*This function should return the AUC score as a float.*"
      ]
    },
    {
      "cell_type": "code",
      "execution_count": 180,
      "metadata": {
        "collapsed": true,
        "id": "qHKq995C78dE"
      },
      "outputs": [],
      "source": [
        "from sklearn.svm import SVC\n",
        "from sklearn.feature_extraction.text import TfidfVectorizer\n",
        "from sklearn.metrics import roc_auc_score\n",
        "\n",
        "\n",
        "def answer_seven():\n",
        "    tfidf = TfidfVectorizer(min_df=5)\n",
        "    X_train_trans = tfidf.fit_transform(X_train)\n",
        "    X_test_trans = tfidf.transform(X_test)\n",
        "\n",
        "    X_train_len = add_feature(X_train_trans, X_train.str.len())\n",
        "    X_test_len = add_feature(X_test_trans, X_test.str.len())\n",
        "\n",
        "    svm = SVC(C=10000).fit(X_train_len, y_train)\n",
        "    y_hat = svm.predict(X_test_len)\n",
        "    \n",
        "    return roc_auc_score(y_test, y_hat)"
      ]
    },
    {
      "cell_type": "code",
      "execution_count": 181,
      "metadata": {
        "collapsed": true,
        "id": "lnZZPuu878dE",
        "colab": {
          "base_uri": "https://localhost:8080/"
        },
        "outputId": "2e0e9559-4885-4ac3-8f97-d09fb5c4d77e"
      },
      "outputs": [
        {
          "output_type": "execute_result",
          "data": {
            "text/plain": [
              "0.9661689557407943"
            ]
          },
          "metadata": {},
          "execution_count": 181
        }
      ],
      "source": [
        "answer_seven()"
      ]
    },
    {
      "cell_type": "markdown",
      "metadata": {
        "id": "wUZVh5Ls78dE"
      },
      "source": [
        "### Question 8\n",
        "\n",
        "What is the average number of digits per document for not spam and spam documents?\n",
        "\n",
        "*This function should return a tuple (average # digits not spam, average # digits spam).*"
      ]
    },
    {
      "cell_type": "code",
      "execution_count": 196,
      "metadata": {
        "collapsed": true,
        "id": "xrqn95W378dE"
      },
      "outputs": [],
      "source": [
        "def count_digits(text):\n",
        "    count = 0\n",
        "    for char in text:\n",
        "        if char.isdigit():\n",
        "            count += 1\n",
        "\n",
        "    return count\n",
        "\n",
        "\n",
        "def answer_eight():\n",
        "    num_char = pd.DataFrame(spam_data[\"text\"].apply(count_digits).values, \n",
        "                        index=spam_data.target)\n",
        "    avg = num_char.groupby(\"target\").mean()\n",
        "    \n",
        "    return (avg[0][0], avg[0][1])"
      ]
    },
    {
      "cell_type": "code",
      "execution_count": 197,
      "metadata": {
        "collapsed": true,
        "id": "uaNqghGy78dE",
        "colab": {
          "base_uri": "https://localhost:8080/"
        },
        "outputId": "7631a615-f837-4e4e-bdf0-49ed85f1fccc"
      },
      "outputs": [
        {
          "output_type": "execute_result",
          "data": {
            "text/plain": [
              "(0.2992746113989637, 15.759036144578314)"
            ]
          },
          "metadata": {},
          "execution_count": 197
        }
      ],
      "source": [
        "answer_eight()"
      ]
    },
    {
      "cell_type": "markdown",
      "metadata": {
        "id": "AUxQmvRt78dE"
      },
      "source": [
        "### Question 9\n",
        "\n",
        "Fit and transform the training data `X_train` using a Tfidf Vectorizer ignoring terms that have a document frequency strictly lower than **5** and using **word n-grams from n=1 to n=3** (unigrams, bigrams, and trigrams).\n",
        "\n",
        "Using this document-term matrix and the following additional features:\n",
        "* the length of document (number of characters)\n",
        "* **number of digits per document**\n",
        "\n",
        "fit a Logistic Regression model with regularization `C=100`. Then compute the area under the curve (AUC) score using the transformed test data.\n",
        "\n",
        "*This function should return the AUC score as a float.*"
      ]
    },
    {
      "cell_type": "code",
      "execution_count": 210,
      "metadata": {
        "collapsed": true,
        "id": "wMU3VwtE78dE"
      },
      "outputs": [],
      "source": [
        "from sklearn.linear_model import LogisticRegression\n",
        "from sklearn.feature_extraction.text import TfidfVectorizer\n",
        "from sklearn.metrics import roc_auc_score\n",
        "\n",
        "\n",
        "def answer_nine():\n",
        "    tfidf = TfidfVectorizer(min_df=5, ngram_range=(1, 3))\n",
        "    X_train_trans = tfidf.fit_transform(X_train)\n",
        "    X_test_trans = tfidf.transform(X_test)\n",
        "    \n",
        "    X_train_final = add_feature(X_train_trans, [X_train.str.len(),\n",
        "                                                X_train.apply(count_digits)])\n",
        "    X_test_final = add_feature(X_test_trans, [X_test.str.len(),\n",
        "                                              X_test.apply(count_digits)])\n",
        "    \n",
        "    log_reg = LogisticRegression(C=100, max_iter=1000).fit(X_train_final, y_train)\n",
        "    y_hat = log_reg.predict(X_test_final)\n",
        "    \n",
        "    return roc_auc_score(y_test, y_hat)"
      ]
    },
    {
      "cell_type": "code",
      "execution_count": 211,
      "metadata": {
        "collapsed": true,
        "id": "pzB5Lb7978dE",
        "colab": {
          "base_uri": "https://localhost:8080/"
        },
        "outputId": "35e32a23-3422-4346-b3b2-40780a0a0a8d"
      },
      "outputs": [
        {
          "output_type": "execute_result",
          "data": {
            "text/plain": [
              "0.9678709064054463"
            ]
          },
          "metadata": {},
          "execution_count": 211
        }
      ],
      "source": [
        "answer_nine()"
      ]
    },
    {
      "cell_type": "markdown",
      "metadata": {
        "id": "OgjzcUs478dE"
      },
      "source": [
        "### Question 10\n",
        "\n",
        "What is the average number of non-word characters (anything other than a letter, digit or underscore) per document for not spam and spam documents?\n",
        "\n",
        "*Hint: Use `\\w` and `\\W` character classes*\n",
        "\n",
        "*This function should return a tuple (average # non-word characters not spam, average # non-word characters spam).*"
      ]
    },
    {
      "cell_type": "code",
      "execution_count": 207,
      "metadata": {
        "collapsed": true,
        "id": "FTeuRbQo78dE"
      },
      "outputs": [],
      "source": [
        "def answer_ten():\n",
        "    num_char = pd.DataFrame(spam_data[\"text\"].str.count(\"\\W\").values, \n",
        "                        index=spam_data.target)\n",
        "\n",
        "    avg = num_char.groupby(\"target\").mean()\n",
        "\n",
        "    return (avg[0][0], avg[0][1])"
      ]
    },
    {
      "cell_type": "code",
      "execution_count": 208,
      "metadata": {
        "collapsed": true,
        "id": "y2wRulvs78dE",
        "colab": {
          "base_uri": "https://localhost:8080/"
        },
        "outputId": "fa7c01b6-278f-4c84-d5fd-0bb2551ba449"
      },
      "outputs": [
        {
          "output_type": "execute_result",
          "data": {
            "text/plain": [
              "(17.29181347150259, 29.041499330655956)"
            ]
          },
          "metadata": {},
          "execution_count": 208
        }
      ],
      "source": [
        "answer_ten()"
      ]
    },
    {
      "cell_type": "markdown",
      "metadata": {
        "id": "R-XP7Ly078dE"
      },
      "source": [
        "### Question 11\n",
        "\n",
        "Fit and transform the training data X_train using a Count Vectorizer ignoring terms that have a document frequency strictly lower than **5** and using **character n-grams from n=2 to n=5.**\n",
        "\n",
        "To tell Count Vectorizer to use character n-grams pass in `analyzer='char_wb'` which creates character n-grams only from text inside word boundaries. This should make the model more robust to spelling mistakes.\n",
        "\n",
        "Using this document-term matrix and the following additional features:\n",
        "* the length of document (number of characters)\n",
        "* number of digits per document\n",
        "* **number of non-word characters (anything other than a letter, digit or underscore.)**\n",
        "\n",
        "fit a Logistic Regression model with regularization C=100. Then compute the area under the curve (AUC) score using the transformed test data.\n",
        "\n",
        "Also **find the 10 smallest and 10 largest coefficients from the model** and return them along with the AUC score in a tuple.\n",
        "\n",
        "The list of 10 smallest coefficients should be sorted smallest first, the list of 10 largest coefficients should be sorted largest first.\n",
        "\n",
        "The three features that were added to the document term matrix should have the following names should they appear in the list of coefficients:\n",
        "['length_of_doc', 'digit_count', 'non_word_char_count']\n",
        "\n",
        "*This function should return a tuple `(AUC score as a float, smallest coefs list, largest coefs list)`.*"
      ]
    },
    {
      "cell_type": "code",
      "execution_count": 234,
      "metadata": {
        "collapsed": true,
        "id": "scGZ1wcs78dE"
      },
      "outputs": [],
      "source": [
        "from sklearn.feature_extraction.text import CountVectorizer\n",
        "from sklearn.linear_model import LogisticRegression\n",
        "from sklearn.metrics import roc_auc_score\n",
        "\n",
        "\n",
        "def answer_eleven():\n",
        "    vect = CountVectorizer(min_df=5, ngram_range=(2, 5), analyzer=\"char_wb\")\n",
        "    X_train_trans = vect.fit_transform(X_train)\n",
        "    X_test_trans = vect.transform(X_test)\n",
        "    \n",
        "    X_train_final = add_feature(X_train_trans, [X_train.str.len(),\n",
        "                                                X_train.apply(count_digits), \n",
        "                                                X_train.str.count(\"\\W\")])\n",
        "    X_test_final = add_feature(X_test_trans, [X_test.str.len(),\n",
        "                                              X_test.apply(count_digits),\n",
        "                                              X_test.str.count(\"\\W\")])\n",
        "    \n",
        "    log_reg = LogisticRegression(C=100, max_iter=1000).fit(X_train_final, y_train)\n",
        "    y_hat = log_reg.predict(X_test_final)\n",
        "\n",
        "\n",
        "    features = np.concatenate([vect.get_feature_names_out(), \n",
        "                                ['length_of_doc', 'digit_count', \n",
        "                                 'non_word_char_count']])\n",
        "    coef_indx = log_reg.coef_[0].argsort()\n",
        "\n",
        "\n",
        "    return (roc_auc_score(y_test, y_hat),\n",
        "            features[coef_indx[:10]].tolist(),\n",
        "            features[coef_indx[:-11:-1]].tolist())"
      ]
    },
    {
      "cell_type": "code",
      "execution_count": 235,
      "metadata": {
        "collapsed": true,
        "id": "tO6K7FAC78dE",
        "colab": {
          "base_uri": "https://localhost:8080/"
        },
        "outputId": "f618c7e7-c61f-4732-9976-0ecc81e8129b"
      },
      "outputs": [
        {
          "output_type": "execute_result",
          "data": {
            "text/plain": [
              "(0.9780231906694056,\n",
              " [' i', 'ca', '..', '. ', 'pe', ' go', ' m', 'if', 'us', 'go'],\n",
              " ['digit_count', 'ia', ' r', 'xt', 'ne', 'co', ' ba', ' x', 'ian ', '46'])"
            ]
          },
          "metadata": {},
          "execution_count": 235
        }
      ],
      "source": [
        "answer_eleven()"
      ]
    }
  ],
  "metadata": {
    "coursera": {
      "course_slug": "python-text-mining",
      "graded_item_id": "Pn19K",
      "launcher_item_id": "y1juS",
      "part_id": "ctlgo"
    },
    "kernelspec": {
      "display_name": "Python 3",
      "language": "python",
      "name": "python3"
    },
    "language_info": {
      "codemirror_mode": {
        "name": "ipython",
        "version": 3
      },
      "file_extension": ".py",
      "mimetype": "text/x-python",
      "name": "python",
      "nbconvert_exporter": "python",
      "pygments_lexer": "ipython3",
      "version": "3.6.2"
    },
    "colab": {
      "name": "Assignment+3.ipynb",
      "provenance": [],
      "collapsed_sections": []
    }
  },
  "nbformat": 4,
  "nbformat_minor": 0
}