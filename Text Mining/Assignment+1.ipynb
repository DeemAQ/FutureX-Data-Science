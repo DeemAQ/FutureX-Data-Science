{
  "cells": [
    {
      "cell_type": "markdown",
      "metadata": {
        "id": "DwONl_KTzVId"
      },
      "source": [
        "---\n",
        "\n",
        "_You are currently looking at **version 1.1** of this notebook. To download notebooks and datafiles, as well as get help on Jupyter notebooks in the Coursera platform, visit the [Jupyter Notebook FAQ](https://www.coursera.org/learn/python-text-mining/resources/d9pwm) course resource._\n",
        "\n",
        "---"
      ]
    },
    {
      "cell_type": "markdown",
      "metadata": {
        "id": "FPtlFxtSzVId"
      },
      "source": [
        "# Assignment 1\n",
        "\n",
        "In this assignment, you'll be working with messy medical data and using regex to extract relevant infromation from the data. \n",
        "\n",
        "Each line of the `dates.txt` file corresponds to a medical note. Each note has a date that needs to be extracted, but each date is encoded in one of many formats.\n",
        "\n",
        "The goal of this assignment is to correctly identify all of the different date variants encoded in this dataset and to properly normalize and sort the dates. \n",
        "\n",
        "Here is a list of some of the variants you might encounter in this dataset:\n",
        "* 04/20/2009; 04/20/09; 4/20/09; 4/3/09\n",
        "* Mar-20-2009; Mar 20, 2009; March 20, 2009;  Mar. 20, 2009; Mar 20 2009;\n",
        "* 20 Mar 2009; 20 March 2009; 20 Mar. 2009; 20 March, 2009\n",
        "* Mar 20th, 2009; Mar 21st, 2009; Mar 22nd, 2009\n",
        "* Feb 2009; Sep 2009; Oct 2010\n",
        "* 6/2008; 12/2009\n",
        "* 2009; 2010\n",
        "\n",
        "Once you have extracted these date patterns from the text, the next step is to sort them in ascending chronological order accoring to the following rules:\n",
        "* Assume all dates in xx/xx/xx format are mm/dd/yy\n",
        "* Assume all dates where year is encoded in only two digits are years from the 1900's (e.g. 1/5/89 is January 5th, 1989)\n",
        "* If the day is missing (e.g. 9/2009), assume it is the first day of the month (e.g. September 1, 2009).\n",
        "* If the month is missing (e.g. 2010), assume it is the first of January of that year (e.g. January 1, 2010).\n",
        "* Watch out for potential typos as this is a raw, real-life derived dataset."
      ]
    },
    {
      "cell_type": "code",
      "execution_count": 15,
      "metadata": {
        "colab": {
          "base_uri": "https://localhost:8080/"
        },
        "id": "GmYejt-4zVId",
        "outputId": "b6149625-03b0-4cf4-9be0-93ac2945a011"
      },
      "outputs": [
        {
          "output_type": "execute_result",
          "data": {
            "text/plain": [
              "0         03/25/93 Total time of visit (in minutes):\\n\n",
              "1                       6/18/85 Primary Care Doctor:\\n\n",
              "2    sshe plans to move as of 7/8/71 In-Home Servic...\n",
              "3                7 on 9/27/75 Audit C Score Current:\\n\n",
              "4    2/6/96 sleep studyPain Treatment Pain Level (N...\n",
              "5                    .Per 7/06/79 Movement D/O note:\\n\n",
              "6    4, 5/18/78 Patient's thoughts about current su...\n",
              "7    10/24/89 CPT Code: 90801 - Psychiatric Diagnos...\n",
              "8                         3/7/86 SOS-10 Total Score:\\n\n",
              "9             (4/10/71)Score-1Audit C Score Current:\\n\n",
              "dtype: object"
            ]
          },
          "metadata": {},
          "execution_count": 15
        }
      ],
      "source": [
        "import pandas as pd\n",
        "\n",
        "doc = []\n",
        "with open('dates.txt') as file:\n",
        "    for line in file:\n",
        "        doc.append(line)\n",
        "\n",
        "df = pd.Series(doc)\n",
        "df.head(10)"
      ]
    },
    {
      "cell_type": "code",
      "source": [
        "# Case 1:\n",
        "#    04/20/2009; 04/20/09; 4/20/09; 4/3/09\n",
        "\n",
        "# Case 2:\n",
        "#    Mar-20-2009; Mar 20, 2009; March 20, 2009; Mar. 20, 2009; Mar 20 2009;\n",
        "#    20 Mar 2009; 20 March 2009; 20 Mar. 2009; 20 March, 2009\n",
        "#    Mar 20th, 2009; Mar 21st, 2009; Mar 22nd, 2009\n",
        "#    Feb 2009; Sep 2009; Oct 2010\n",
        "\n",
        "# Case 3:\n",
        "#    6/2008; 12/2009\n",
        "#    2009; 2010"
      ],
      "metadata": {
        "id": "gal-CIQv6o75"
      },
      "execution_count": null,
      "outputs": []
    },
    {
      "cell_type": "code",
      "execution_count": 16,
      "metadata": {
        "collapsed": true,
        "id": "RRRktszpzVId"
      },
      "outputs": [],
      "source": [
        "def date_sorter():\n",
        "    # Read the dataset\n",
        "    import pandas as pd\n",
        "\n",
        "    doc = []\n",
        "    with open('dates.txt') as file:\n",
        "        for line in file:\n",
        "            doc.append(line)\n",
        "\n",
        "    df = pd.Series(doc)\n",
        "\n",
        "    re_1 = r\"\\d{1,2}[/-]\\d{1,2}[/-]\\d{2,4}\"\n",
        "    re_2 = r\"(?:\\d{1,2} )?(?:Jan|Feb|Mar|Apr|May|Jun|Jul|Aug|Sep|Oct|Nov|Dec)[a-z]*[ \\-\\.,]+(?:\\d{1,2}[\\w]*[ \\-,]+)?[1|2]\\d{3}\"\n",
        "    re_3 = r\"(?:\\d{1,2}/)?[1|2]\\d{3}\"\n",
        "\n",
        "    # Correct misspillings\n",
        "    df = df.str.replace(\"Janaury\", \"January\")\n",
        "    df = df.str.replace(\"Decemeber\", \"December\")\n",
        "\n",
        "    # Extract dates\n",
        "    regex = \"((%s)|(%s)|(%s))\"%(re_1, re_2, re_3)\n",
        "    dates = df.str.extract(regex)\n",
        "\n",
        "    # To Series\n",
        "    dates = pd.Series(pd.to_datetime(dates.iloc[:,0]))\n",
        "\n",
        "    # Correct 2071 case:\n",
        "    from datetime import datetime\n",
        "\n",
        "    current_year = datetime.now().year\n",
        "    for i in range(dates.shape[0]):\n",
        "      if dates[i].year >= current_year:\n",
        "        dates[i] = pd.Timestamp(year=dates[i].year-100, \n",
        "                                month=dates[i].month, day=dates[i].day)\n",
        "\n",
        "    # Sort the dates\n",
        "    dates.sort_values(ascending=True, inplace=True)\n",
        "\n",
        "    return pd.Series(dates.index.values)"
      ]
    },
    {
      "cell_type": "code",
      "source": [
        "date_sorter()"
      ],
      "metadata": {
        "colab": {
          "base_uri": "https://localhost:8080/"
        },
        "id": "WTp-C7CfL3Vy",
        "outputId": "b6aeaef9-7fb4-4c08-f90b-1c347c0e3999"
      },
      "execution_count": 17,
      "outputs": [
        {
          "output_type": "execute_result",
          "data": {
            "text/plain": [
              "0        9\n",
              "1       84\n",
              "2        2\n",
              "3       53\n",
              "4       28\n",
              "      ... \n",
              "495    231\n",
              "496    141\n",
              "497    186\n",
              "498    161\n",
              "499    413\n",
              "Length: 500, dtype: int64"
            ]
          },
          "metadata": {},
          "execution_count": 17
        }
      ]
    }
  ],
  "metadata": {
    "coursera": {
      "course_slug": "python-text-mining",
      "graded_item_id": "LvcWI",
      "launcher_item_id": "krne9",
      "part_id": "Mkp1I"
    },
    "kernelspec": {
      "display_name": "Python 3",
      "language": "python",
      "name": "python3"
    },
    "language_info": {
      "codemirror_mode": {
        "name": "ipython",
        "version": 3
      },
      "file_extension": ".py",
      "mimetype": "text/x-python",
      "name": "python",
      "nbconvert_exporter": "python",
      "pygments_lexer": "ipython3",
      "version": "3.6.2"
    },
    "colab": {
      "name": "Assignment+1.ipynb",
      "provenance": [],
      "collapsed_sections": []
    }
  },
  "nbformat": 4,
  "nbformat_minor": 0
}