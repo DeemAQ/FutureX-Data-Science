{
  "cells": [
    {
      "cell_type": "markdown",
      "metadata": {
        "id": "kTAR6vSxHezK"
      },
      "source": [
        "---\n",
        "\n",
        "_You are currently looking at **version 1.2** of this notebook. To download notebooks and datafiles, as well as get help on Jupyter notebooks in the Coursera platform, visit the [Jupyter Notebook FAQ](https://www.coursera.org/learn/python-social-network-analysis/resources/yPcBs) course resource._\n",
        "\n",
        "---"
      ]
    },
    {
      "cell_type": "markdown",
      "metadata": {
        "id": "hJEr7MSsHezK"
      },
      "source": [
        "# Assignment 2 - Network Connectivity\n",
        "\n",
        "In this assignment you will go through the process of importing and analyzing an internal email communication network between employees of a mid-sized manufacturing company. \n",
        "Each node represents an employee and each directed edge between two nodes represents an individual email. The left node represents the sender and the right node represents the recipient."
      ]
    },
    {
      "cell_type": "code",
      "source": [
        "from google.colab import drive\n",
        "drive.mount('/content/drive')"
      ],
      "metadata": {
        "colab": {
          "base_uri": "https://localhost:8080/"
        },
        "id": "HjMLQgzyJE6M",
        "outputId": "b8a5033f-2ba1-45ea-b34a-9b5ec5f0e52e"
      },
      "execution_count": 3,
      "outputs": [
        {
          "output_type": "stream",
          "name": "stdout",
          "text": [
            "Mounted at /content/drive\n"
          ]
        }
      ]
    },
    {
      "cell_type": "code",
      "execution_count": 1,
      "metadata": {
        "collapsed": true,
        "id": "Go2awrVHHezK"
      },
      "outputs": [],
      "source": [
        "import networkx as nx\n",
        "\n",
        "# This line must be commented out when submitting to the autograder\n",
        "#!head email_network.txt"
      ]
    },
    {
      "cell_type": "markdown",
      "metadata": {
        "id": "yNSet7NPHezK"
      },
      "source": [
        "### Question 1\n",
        "\n",
        "Using networkx, load up the directed multigraph from `email_network.txt`. Make sure the node names are strings.\n",
        "\n",
        "*This function should return a directed multigraph networkx graph.*"
      ]
    },
    {
      "cell_type": "code",
      "execution_count": 12,
      "metadata": {
        "collapsed": true,
        "id": "-Ad7_xDnHezK"
      },
      "outputs": [],
      "source": [
        "def answer_one():    \n",
        "    return nx.read_edgelist(\"/content/drive/MyDrive/email_network.txt\", \n",
        "                            delimiter=\"\\t\", \n",
        "                            create_using=nx.MultiDiGraph(), \n",
        "                            data=[(\"time\", int)])"
      ]
    },
    {
      "cell_type": "markdown",
      "metadata": {
        "id": "stOwkeB0HezK"
      },
      "source": [
        "### Question 2\n",
        "\n",
        "How many employees and emails are represented in the graph from Question 1?\n",
        "\n",
        "*This function should return a tuple (#employees, #emails).*"
      ]
    },
    {
      "cell_type": "code",
      "execution_count": 11,
      "metadata": {
        "collapsed": true,
        "id": "GYCpTxSbHezK"
      },
      "outputs": [],
      "source": [
        "def answer_two():\n",
        "    G = answer_one()\n",
        "    # number of employees = number of nodes\n",
        "    # number of emails = number of links (edges)\n",
        "\n",
        "    return (len(G.nodes()), len(G.edges()))"
      ]
    },
    {
      "cell_type": "markdown",
      "metadata": {
        "id": "GvCfaaG4HezK"
      },
      "source": [
        "### Question 3\n",
        "\n",
        "* Part 1. Assume that information in this company can only be exchanged through email.\n",
        "\n",
        "    When an employee sends an email to another employee, a communication channel has been created, allowing the sender to provide information to the receiver, but not vice versa. \n",
        "\n",
        "    Based on the emails sent in the data, is it possible for information to go from every employee to every other employee?\n",
        "\n",
        "\n",
        "* Part 2. Now assume that a communication channel established by an email allows information to be exchanged both ways. \n",
        "\n",
        "    Based on the emails sent in the data, is it possible for information to go from every employee to every other employee?\n",
        "\n",
        "\n",
        "*This function should return a tuple of bools (part1, part2).*"
      ]
    },
    {
      "cell_type": "code",
      "execution_count": 10,
      "metadata": {
        "collapsed": true,
        "id": "2XkMffHXHeza"
      },
      "outputs": [],
      "source": [
        "def answer_three():\n",
        "    G = answer_one()\n",
        "    # is it possible for information to go \n",
        "    # from every employee to every other employee?\n",
        "    # meaning, check if strongly connected\n",
        "\n",
        "    # is it possible for information to go\n",
        "    # from every employee to every other employee?\n",
        "    # meaning, check if undirected is connected (weakly connected)\n",
        "\n",
        "    return (nx.is_strongly_connected(G), \n",
        "            nx.is_weakly_connected(G))"
      ]
    },
    {
      "cell_type": "markdown",
      "metadata": {
        "id": "gJ3NYe5XHeza"
      },
      "source": [
        "### Question 4\n",
        "\n",
        "How many nodes are in the largest (in terms of nodes) weakly connected component?\n",
        "\n",
        "*This function should return an int.*"
      ]
    },
    {
      "cell_type": "code",
      "execution_count": 19,
      "metadata": {
        "collapsed": true,
        "scrolled": true,
        "id": "UaIxgKb7Heza"
      },
      "outputs": [],
      "source": [
        "def answer_four(): \n",
        "    return len(max(nx.weakly_connected_components(answer_one()), \n",
        "                   key=len))"
      ]
    },
    {
      "cell_type": "markdown",
      "metadata": {
        "id": "vk1n4RBqHeza"
      },
      "source": [
        "### Question 5\n",
        "\n",
        "How many nodes are in the largest (in terms of nodes) strongly connected component?\n",
        "\n",
        "*This function should return an int*"
      ]
    },
    {
      "cell_type": "code",
      "execution_count": 20,
      "metadata": {
        "collapsed": true,
        "id": "7dnXxPxDHeza"
      },
      "outputs": [],
      "source": [
        "def answer_five():\n",
        "    return len(max(nx.strongly_connected_components(answer_one()), \n",
        "                   key=len))"
      ]
    },
    {
      "cell_type": "markdown",
      "metadata": {
        "id": "2zkTOTLoHeza"
      },
      "source": [
        "### Question 6\n",
        "\n",
        "Using the NetworkX function strongly_connected_component_subgraphs, find the subgraph of nodes in a largest strongly connected component. \n",
        "Call this graph G_sc.\n",
        "\n",
        "*This function should return a networkx MultiDiGraph named G_sc.*"
      ]
    },
    {
      "cell_type": "code",
      "execution_count": 22,
      "metadata": {
        "collapsed": true,
        "id": "aPw5somoHeza"
      },
      "outputs": [],
      "source": [
        "def answer_six():\n",
        "    G = answer_one()\n",
        "\n",
        "    largest_sc = max(nx.strongly_connected_components(G), key=len)\n",
        "    \n",
        "    return G.subgraph(largest_sc)"
      ]
    },
    {
      "cell_type": "markdown",
      "metadata": {
        "id": "bLvB1heoHeza"
      },
      "source": [
        "### Question 7\n",
        "\n",
        "What is the average distance between nodes in G_sc?\n",
        "\n",
        "*This function should return a float.*"
      ]
    },
    {
      "cell_type": "code",
      "execution_count": 24,
      "metadata": {
        "collapsed": true,
        "id": "tBQ_GKATHeza"
      },
      "outputs": [],
      "source": [
        "def answer_seven():\n",
        "    return nx.average_shortest_path_length(answer_six())"
      ]
    },
    {
      "cell_type": "markdown",
      "metadata": {
        "id": "BwoGz7xXHeza"
      },
      "source": [
        "### Question 8\n",
        "\n",
        "What is the largest possible distance between two employees in G_sc?\n",
        "\n",
        "*This function should return an int.*"
      ]
    },
    {
      "cell_type": "code",
      "execution_count": 26,
      "metadata": {
        "collapsed": true,
        "id": "wshU8anrHeza"
      },
      "outputs": [],
      "source": [
        "def answer_eight():\n",
        "    return nx.diameter(answer_six())"
      ]
    },
    {
      "cell_type": "markdown",
      "metadata": {
        "id": "wR1-VIY6Heza"
      },
      "source": [
        "### Question 9\n",
        "\n",
        "What is the set of nodes in G_sc with eccentricity equal to the diameter?\n",
        "\n",
        "*This function should return a set of the node(s).*"
      ]
    },
    {
      "cell_type": "code",
      "execution_count": 28,
      "metadata": {
        "collapsed": true,
        "id": "pJe29pj8Heza"
      },
      "outputs": [],
      "source": [
        "def answer_nine():\n",
        "    return set(nx.periphery(answer_six()))"
      ]
    },
    {
      "cell_type": "markdown",
      "metadata": {
        "id": "jb83liFSHeza"
      },
      "source": [
        "### Question 10\n",
        "\n",
        "What is the set of node(s) in G_sc with eccentricity equal to the radius?\n",
        "\n",
        "*This function should return a set of the node(s).*"
      ]
    },
    {
      "cell_type": "code",
      "execution_count": 30,
      "metadata": {
        "collapsed": true,
        "id": "B3k9blSNHeza"
      },
      "outputs": [],
      "source": [
        "def answer_ten():\n",
        "    return set(nx.center(answer_six()))"
      ]
    },
    {
      "cell_type": "markdown",
      "metadata": {
        "id": "CNCSFZ6LHeza"
      },
      "source": [
        "### Question 11\n",
        "\n",
        "Which node in G_sc is connected to the most other nodes by a shortest path of length equal to the diameter of G_sc?\n",
        "\n",
        "How many nodes are connected to this node?\n",
        "\n",
        "\n",
        "*This function should return a tuple (name of node, number of satisfied connected nodes).*"
      ]
    },
    {
      "cell_type": "code",
      "execution_count": 44,
      "metadata": {
        "collapsed": true,
        "id": "00_ugBGyHeza"
      },
      "outputs": [],
      "source": [
        "def answer_eleven():\n",
        "    from operator import itemgetter\n",
        "\n",
        "\n",
        "    G_sc = answer_six()\n",
        "\n",
        "    periphery = nx.periphery(G_sc)\n",
        "    diameter = nx.diameter(G_sc)\n",
        "\n",
        "    res = list()\n",
        "    for node in periphery:\n",
        "        shortest_path = nx.shortest_path(G_sc, node)\n",
        "        res.append((node, \n",
        "                    len([p for p in shortest_path.values()\n",
        "                         if len(p)-1 == diameter])))\n",
        "\n",
        "    return sorted(res, key=itemgetter(1))[-1]"
      ]
    },
    {
      "cell_type": "markdown",
      "metadata": {
        "id": "7X2yBJXIHeza"
      },
      "source": [
        "### Question 12\n",
        "\n",
        "Suppose you want to prevent communication from flowing to the node that you found in the previous question from any node in the center of G_sc, what is the smallest number of nodes you would need to remove from the graph (you're not allowed to remove the node from the previous question or the center nodes)? \n",
        "\n",
        "*This function should return an integer.*"
      ]
    },
    {
      "cell_type": "code",
      "execution_count": 60,
      "metadata": {
        "collapsed": true,
        "id": "Hn3ZBpLJHeza"
      },
      "outputs": [],
      "source": [
        "def answer_twelve():\n",
        "    return nx.node_connectivity(answer_six(), \n",
        "                                answer_ten().pop(), answer_eleven()[0])-1"
      ]
    },
    {
      "cell_type": "markdown",
      "metadata": {
        "id": "OXpw8sk8Heza"
      },
      "source": [
        "### Question 13\n",
        "\n",
        "Construct an undirected graph G_un using G_sc (you can ignore the attributes).\n",
        "\n",
        "*This function should return a networkx Graph.*"
      ]
    },
    {
      "cell_type": "code",
      "execution_count": 62,
      "metadata": {
        "collapsed": true,
        "id": "uSBZfKA3Heza"
      },
      "outputs": [],
      "source": [
        "def answer_thirteen():\n",
        "    return nx.Graph(answer_six().to_undirected())"
      ]
    },
    {
      "cell_type": "markdown",
      "metadata": {
        "id": "hKZILOjRHeza"
      },
      "source": [
        "### Question 14\n",
        "\n",
        "What is the transitivity and average clustering coefficient of graph G_un?\n",
        "\n",
        "*This function should return a tuple (transitivity, avg clustering).*"
      ]
    },
    {
      "cell_type": "code",
      "execution_count": 63,
      "metadata": {
        "collapsed": true,
        "id": "EBLqD9m6Heza"
      },
      "outputs": [],
      "source": [
        "def answer_fourteen():\n",
        "    G = answer_thirteen()\n",
        "    \n",
        "    return (nx.transitivity(G), nx.average_clustering(G))"
      ]
    }
  ],
  "metadata": {
    "coursera": {
      "course_slug": "python-social-network-analysis",
      "graded_item_id": "jMCHR",
      "launcher_item_id": "7RsKp",
      "part_id": "E9gn5"
    },
    "kernelspec": {
      "display_name": "Python 3",
      "language": "python",
      "name": "python3"
    },
    "language_info": {
      "codemirror_mode": {
        "name": "ipython",
        "version": 3
      },
      "file_extension": ".py",
      "mimetype": "text/x-python",
      "name": "python",
      "nbconvert_exporter": "python",
      "pygments_lexer": "ipython3",
      "version": "3.6.2"
    },
    "colab": {
      "provenance": [],
      "collapsed_sections": []
    }
  },
  "nbformat": 4,
  "nbformat_minor": 0
}