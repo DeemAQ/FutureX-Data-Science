{
  "cells": [
    {
      "cell_type": "markdown",
      "metadata": {
        "id": "e9GPNrE5YhGf"
      },
      "source": [
        "---\n",
        "\n",
        "_You are currently looking at **version 1.1** of this notebook. To download notebooks and datafiles, as well as get help on Jupyter notebooks in the Coursera platform, visit the [Jupyter Notebook FAQ](https://www.coursera.org/learn/python-social-network-analysis/resources/yPcBs) course resource._\n",
        "\n",
        "---"
      ]
    },
    {
      "cell_type": "markdown",
      "metadata": {
        "id": "cGxdn9p4YhGw"
      },
      "source": [
        "# Assignment 1 - Creating and Manipulating Graphs\n",
        "\n",
        "Eight employees at a small company were asked to choose 3 movies that they would most enjoy watching for the upcoming company movie night. These choices are stored in the file `Employee_Movie_Choices.txt`.\n",
        "\n",
        "A second file, `Employee_Relationships.txt`, has data on the relationships between different coworkers. \n",
        "\n",
        "The relationship score has value of `-100` (Enemies) to `+100` (Best Friends). A value of zero means the two employees haven't interacted or are indifferent.\n",
        "\n",
        "Both files are tab delimited."
      ]
    },
    {
      "cell_type": "code",
      "execution_count": 1,
      "metadata": {
        "collapsed": true,
        "id": "Rh-YvibSYhGw"
      },
      "outputs": [],
      "source": [
        "import networkx as nx\n",
        "import pandas as pd\n",
        "import numpy as np\n",
        "from networkx.algorithms import bipartite\n",
        "\n",
        "\n",
        "# This is the set of employees\n",
        "employees = set(['Pablo',\n",
        "                 'Lee',\n",
        "                 'Georgia',\n",
        "                 'Vincent',\n",
        "                 'Andy',\n",
        "                 'Frida',\n",
        "                 'Joan',\n",
        "                 'Claude'])\n",
        "\n",
        "# This is the set of movies\n",
        "movies = set(['The Shawshank Redemption',\n",
        "              'Forrest Gump',\n",
        "              'The Matrix',\n",
        "              'Anaconda',\n",
        "              'The Social Network',\n",
        "              'The Godfather',\n",
        "              'Monty Python and the Holy Grail',\n",
        "              'Snakes on a Plane',\n",
        "              'Kung Fu Panda',\n",
        "              'The Dark Knight',\n",
        "              'Mean Girls'])\n",
        "\n",
        "\n",
        "# you can use the following function to plot graphs\n",
        "# make sure to comment it out before submitting to the autograder\n",
        "def plot_graph(G, weight_name=None):\n",
        "    '''\n",
        "    G: a networkx G\n",
        "    weight_name: name of the attribute for plotting edge weights (if G is weighted)\n",
        "    '''\n",
        "    %matplotlib notebook\n",
        "    import matplotlib.pyplot as plt\n",
        "    \n",
        "    plt.figure()\n",
        "    pos = nx.spring_layout(G)\n",
        "    edges = G.edges()\n",
        "    weights = None\n",
        "    \n",
        "    if weight_name:\n",
        "        weights = [int(G[u][v][weight_name]) for u,v in edges]\n",
        "        labels = nx.get_edge_attributes(G,weight_name)\n",
        "        nx.draw_networkx_edge_labels(G,pos,edge_labels=labels)\n",
        "        nx.draw_networkx(G, pos, edges=edges, width=weights);\n",
        "    else:\n",
        "        nx.draw_networkx(G, pos, edges=edges);"
      ]
    },
    {
      "cell_type": "markdown",
      "metadata": {
        "id": "2ESmORiPYhGw"
      },
      "source": [
        "### Question 1\n",
        "\n",
        "Using NetworkX, load in the bipartite graph from `Employee_Movie_Choices.txt` and return that graph.\n",
        "\n",
        "*This function should return a networkx graph with 19 nodes and 24 edges*"
      ]
    },
    {
      "cell_type": "code",
      "execution_count": 18,
      "metadata": {
        "collapsed": true,
        "id": "-_T-VtlBYhGw"
      },
      "outputs": [],
      "source": [
        "def answer_one():\n",
        "    # note: the file tab delimited\n",
        "    return nx.read_edgelist(\"Employee_Movie_Choices.txt\", delimiter=\"\\t\")"
      ]
    },
    {
      "cell_type": "markdown",
      "metadata": {
        "id": "U-7ZNLxRYhGw"
      },
      "source": [
        "### Question 2\n",
        "\n",
        "Using the graph from the previous question, add nodes attributes named `'type'` where movies have the value `'movie'` and employees have the value `'employee'` and return that graph.\n",
        "\n",
        "*This function should return a networkx graph with node attributes `{'type': 'movie'}` or `{'type': 'employee'}`*"
      ]
    },
    {
      "cell_type": "code",
      "execution_count": 16,
      "metadata": {
        "collapsed": true,
        "id": "zj1ot3xgYhGw"
      },
      "outputs": [],
      "source": [
        "def answer_two():\n",
        "    G = answer_one()\n",
        "\n",
        "    for node in G.nodes():\n",
        "        if node in employees:\n",
        "            G.add_node(node, type=\"employee\")\n",
        "        elif node in movies:\n",
        "            G.add_node(node, type=\"movie\")\n",
        "    \n",
        "    return G"
      ]
    },
    {
      "cell_type": "markdown",
      "metadata": {
        "collapsed": true,
        "id": "umoVp6bcYhGw"
      },
      "source": [
        "### Question 3\n",
        "\n",
        "Find a weighted projection of the graph from `answer_two` which tells us how many movies different pairs of employees have in common.\n",
        "\n",
        "*This function should return a weighted projected graph.*"
      ]
    },
    {
      "cell_type": "code",
      "execution_count": 17,
      "metadata": {
        "collapsed": true,
        "id": "4hTsMtqvYhHA"
      },
      "outputs": [],
      "source": [
        "def answer_three():\n",
        "    return bipartite.weighted_projected_graph(answer_two(), employees)"
      ]
    },
    {
      "cell_type": "markdown",
      "metadata": {
        "collapsed": true,
        "id": "BcFbFrbmYhHA"
      },
      "source": [
        "### Question 4\n",
        "\n",
        "Suppose you'd like to find out if people that have a high relationship score also like the same types of movies.\n",
        "\n",
        "Find the Pearson correlation ( using `DataFrame.corr()` ) between employee relationship scores and the number of movies they have in common. If two employees have no movies in common it should be treated as a 0, not a missing value, and should be included in the correlation calculation.\n",
        "\n",
        "*This function should return a float.*"
      ]
    },
    {
      "cell_type": "code",
      "execution_count": 36,
      "metadata": {
        "collapsed": true,
        "id": "qnfTVteDYhHA"
      },
      "outputs": [],
      "source": [
        "def answer_four():\n",
        "    G = pd.DataFrame(answer_three().edges(data=True),\n",
        "                 columns=[\"Employee_1\", \"Employee_2\", \"Movies_in_common\"])\n",
        "    # remove the weight dict\n",
        "    G[\"Movies_in_common\"] = G[\"Movies_in_common\"].apply(lambda x: x[\"weight\"])\n",
        "\n",
        "    # now revese Employee_1 and Employee_2, then concat to get common movies\n",
        "    G_duplicate = G.copy()\n",
        "    G_duplicate.rename(columns={\"Employee_1\":\"Employee_2\", \n",
        "                                \"Employee_2\":\"Employee_1\"}, inplace=True)\n",
        "    common_movies = pd.concat([G, G_duplicate], ignore_index=True)\n",
        "\n",
        "    # read the relationships txt\n",
        "    emp_rel = pd.read_csv(\"Employee_Relationships.txt\", sep=\"\\t\", \n",
        "                          names=[\"Employee_1\", \"Employee_2\", \n",
        "                                 \"Relationship_score\"])\n",
        "\n",
        "    # merge the realtionships and common movies\n",
        "    in_common = pd.merge(common_movies, emp_rel, how=\"right\")\n",
        "    # fill NAs\n",
        "    in_common[\"Movies_in_common\"].fillna(0, inplace=True)\n",
        "    \n",
        "\n",
        "    return in_common[\"Movies_in_common\"].corr(in_common[\"Relationship_score\"])"
      ]
    }
  ],
  "metadata": {
    "coursera": {
      "course_slug": "python-social-network-analysis",
      "graded_item_id": "YNa9b",
      "launcher_item_id": "hvNc1",
      "part_id": "VbyiB"
    },
    "kernelspec": {
      "display_name": "Python 3",
      "language": "python",
      "name": "python3"
    },
    "language_info": {
      "codemirror_mode": {
        "name": "ipython",
        "version": 3
      },
      "file_extension": ".py",
      "mimetype": "text/x-python",
      "name": "python",
      "nbconvert_exporter": "python",
      "pygments_lexer": "ipython3",
      "version": "3.6.2"
    },
    "colab": {
      "provenance": [],
      "collapsed_sections": []
    }
  },
  "nbformat": 4,
  "nbformat_minor": 0
}