{
  "cells": [
    {
      "cell_type": "markdown",
      "metadata": {
        "id": "mGaHGJSFqC4T"
      },
      "source": [
        "---\n",
        "\n",
        "_You are currently looking at **version 1.2** of this notebook. To download notebooks and datafiles, as well as get help on Jupyter notebooks in the Coursera platform, visit the [Jupyter Notebook FAQ](https://www.coursera.org/learn/python-social-network-analysis/resources/yPcBs) course resource._\n",
        "\n",
        "---"
      ]
    },
    {
      "cell_type": "markdown",
      "metadata": {
        "id": "S86jS7tVqC4T"
      },
      "source": [
        "# Assignment 3\n",
        "\n",
        "In this assignment you will explore measures of centrality on two networks, a friendship network in Part 1, and a blog network in Part 2."
      ]
    },
    {
      "cell_type": "markdown",
      "metadata": {
        "id": "lsOylr4yqC4T"
      },
      "source": [
        "## Part 1\n",
        "\n",
        "Answer questions 1-4 using the network `G1`, a network of friendships at a university department. Each node corresponds to a person, and an edge indicates friendship. \n",
        "\n",
        "*The network has been loaded as networkx graph object `G1`.*"
      ]
    },
    {
      "cell_type": "code",
      "source": [
        "from google.colab import drive\n",
        "drive.mount('/content/drive')"
      ],
      "metadata": {
        "colab": {
          "base_uri": "https://localhost:8080/"
        },
        "id": "4FpvEFepqFAP",
        "outputId": "fa47d2da-687c-4bba-e6dd-33341bbafdea"
      },
      "execution_count": 1,
      "outputs": [
        {
          "output_type": "stream",
          "name": "stdout",
          "text": [
            "Mounted at /content/drive\n"
          ]
        }
      ]
    },
    {
      "cell_type": "code",
      "execution_count": 2,
      "metadata": {
        "collapsed": true,
        "id": "Sg5IhV4CqC4T"
      },
      "outputs": [],
      "source": [
        "import networkx as nx\n",
        "\n",
        "G1 = nx.read_gml('/content/drive/MyDrive/friendships.gml')"
      ]
    },
    {
      "cell_type": "markdown",
      "metadata": {
        "id": "Bi2jc1qjqC4T"
      },
      "source": [
        "### Question 1\n",
        "\n",
        "Find the degree centrality, closeness centrality, and normalized betweeness centrality (excluding endpoints) of node 100.\n",
        "\n",
        "*This function should return a tuple of floats `(degree_centrality, closeness_centrality, betweenness_centrality)`.*"
      ]
    },
    {
      "cell_type": "code",
      "execution_count": 3,
      "metadata": {
        "collapsed": true,
        "id": "6yHy3zq7qC4T"
      },
      "outputs": [],
      "source": [
        "def answer_one():\n",
        "    degree_centrality = nx.degree_centrality(G1)[100]\n",
        "    closeness_centrality = nx.closeness_centrality(G1)[100]\n",
        "    betweenness_centrality = nx.betweenness_centrality(G1)[100]\n",
        "    \n",
        "    return (degree_centrality, closeness_centrality, betweenness_centrality)"
      ]
    },
    {
      "cell_type": "markdown",
      "metadata": {
        "id": "PFiZU648qC4T"
      },
      "source": [
        "<br>\n",
        "#### For Questions 2, 3, and 4, assume that you do not know anything about the structure of the network, except for the all the centrality values of the nodes. That is, use one of the covered centrality measures to rank the nodes and find the most appropriate candidate.\n",
        "<br>"
      ]
    },
    {
      "cell_type": "markdown",
      "metadata": {
        "id": "JZXF2Z-DqC4T"
      },
      "source": [
        "### Question 2\n",
        "\n",
        "Suppose you are employed by an online shopping website and are tasked with selecting one user in network G1 to send an online shopping voucher to. We expect that the user who receives the voucher will send it to their friends in the network.  You want the voucher to reach as many nodes as possible. The voucher can be forwarded to multiple users at the same time, but the travel distance of the voucher is limited to one step, which means if the voucher travels more than one step in this network, it is no longer valid. Apply your knowledge in network centrality to select the best candidate for the voucher. \n",
        "\n",
        "*This function should return an integer, the name of the node.*"
      ]
    },
    {
      "cell_type": "code",
      "execution_count": 10,
      "metadata": {
        "collapsed": true,
        "scrolled": true,
        "id": "Pske3LESqC4T"
      },
      "outputs": [],
      "source": [
        "def answer_two():\n",
        "    degree_centrality = nx.degree_centrality(G1)\n",
        "\n",
        "    return max(degree_centrality.keys(), \n",
        "               key=(lambda x: degree_centrality[x]))"
      ]
    },
    {
      "cell_type": "markdown",
      "metadata": {
        "id": "6PMlrXkfqC4T"
      },
      "source": [
        "### Question 3\n",
        "\n",
        "Now the limit of the voucher’s travel distance has been removed. Because the network is connected, regardless of who you pick, every node in the network will eventually receive the voucher. However, we now want to ensure that the voucher reaches the nodes in the lowest average number of hops.\n",
        "\n",
        "How would you change your selection strategy? Write a function to tell us who is the best candidate in the network under this condition.\n",
        "\n",
        "*This function should return an integer, the name of the node.*"
      ]
    },
    {
      "cell_type": "code",
      "execution_count": 11,
      "metadata": {
        "collapsed": true,
        "scrolled": false,
        "id": "MFhZGt40qC4T"
      },
      "outputs": [],
      "source": [
        "def answer_three():\n",
        "    closeness_centrality = nx.closeness_centrality(G1)\n",
        "    \n",
        "    return max(closeness_centrality.keys(), \n",
        "               key=(lambda x: closeness_centrality[x]))"
      ]
    },
    {
      "cell_type": "markdown",
      "metadata": {
        "id": "wOXcrlkBqC4T"
      },
      "source": [
        "### Question 4\n",
        "\n",
        "Assume the restriction on the voucher’s travel distance is still removed, but now a competitor has developed a strategy to remove a person from the network in order to disrupt the distribution of your company’s voucher. Your competitor is specifically targeting people who are often bridges of information flow between other pairs of people. Identify the single riskiest person to be removed under your competitor’s strategy?\n",
        "\n",
        "*This function should return an integer, the name of the node.*"
      ]
    },
    {
      "cell_type": "code",
      "execution_count": 13,
      "metadata": {
        "collapsed": true,
        "id": "sRTZzB3SqC4T"
      },
      "outputs": [],
      "source": [
        "def answer_four():\n",
        "    betweenness_centrality = nx.betweenness_centrality(G1)\n",
        "    \n",
        "    return max(betweenness_centrality.keys(), \n",
        "               key=(lambda x: betweenness_centrality[x]))"
      ]
    },
    {
      "cell_type": "markdown",
      "metadata": {
        "collapsed": true,
        "id": "y3G6tUU2qC4T"
      },
      "source": [
        "## Part 2\n",
        "\n",
        "`G2` is a directed network of political blogs, where nodes correspond to a blog and edges correspond to links between blogs. Use your knowledge of PageRank and HITS to answer Questions 5-9."
      ]
    },
    {
      "cell_type": "code",
      "execution_count": 15,
      "metadata": {
        "collapsed": true,
        "id": "3MhZJSq9qC4T"
      },
      "outputs": [],
      "source": [
        "G2 = nx.read_gml('/content/drive/MyDrive/blogs.gml')"
      ]
    },
    {
      "cell_type": "markdown",
      "metadata": {
        "id": "Nk5VXpaWqC4T"
      },
      "source": [
        "### Question 5\n",
        "\n",
        "Apply the Scaled Page Rank Algorithm to this network. Find the Page Rank of node 'realclearpolitics.com' with damping value 0.85.\n",
        "\n",
        "*This function should return a float.*"
      ]
    },
    {
      "cell_type": "code",
      "execution_count": 16,
      "metadata": {
        "collapsed": true,
        "id": "fHZJvbgsqC4T"
      },
      "outputs": [],
      "source": [
        "def answer_five():    \n",
        "    return nx.pagerank(G2, alpha=0.85)[\"realclearpolitics.com\"]"
      ]
    },
    {
      "cell_type": "markdown",
      "metadata": {
        "id": "1Z9da1SGqC4T"
      },
      "source": [
        "### Question 6\n",
        "\n",
        "Apply the Scaled Page Rank Algorithm to this network with damping value 0.85. Find the 5 nodes with highest Page Rank. \n",
        "\n",
        "*This function should return a list of the top 5 blogs in desending order of Page Rank.*"
      ]
    },
    {
      "cell_type": "code",
      "execution_count": 18,
      "metadata": {
        "collapsed": true,
        "id": "knJntKFmqC4T"
      },
      "outputs": [],
      "source": [
        "def answer_six():\n",
        "    pagerank = nx.pagerank(G2, alpha=0.85)\n",
        "\n",
        "    return sorted(pagerank.keys(), \n",
        "                  key=(lambda x: pagerank[x]), reverse=True)[:5]"
      ]
    },
    {
      "cell_type": "markdown",
      "metadata": {
        "collapsed": true,
        "id": "ZVr2nicXqC4k"
      },
      "source": [
        "### Question 7\n",
        "\n",
        "Apply the HITS Algorithm to the network to find the hub and authority scores of node 'realclearpolitics.com'. \n",
        "\n",
        "*Your result should return a tuple of floats `(hub_score, authority_score)`.*"
      ]
    },
    {
      "cell_type": "code",
      "execution_count": 25,
      "metadata": {
        "collapsed": true,
        "id": "rSaM8bKTqC4k"
      },
      "outputs": [],
      "source": [
        "def answer_seven():\n",
        "    return (nx.hits(G2)[0][\"realclearpolitics.com\"], \n",
        "            nx.hits(G2)[1][\"realclearpolitics.com\"])"
      ]
    },
    {
      "cell_type": "markdown",
      "metadata": {
        "collapsed": true,
        "id": "GPfhZ18pqC4k"
      },
      "source": [
        "### Question 8 \n",
        "\n",
        "Apply the HITS Algorithm to this network to find the 5 nodes with highest hub scores.\n",
        "\n",
        "*This function should return a list of the top 5 blogs in desending order of hub scores.*"
      ]
    },
    {
      "cell_type": "code",
      "execution_count": 27,
      "metadata": {
        "collapsed": true,
        "id": "iPW2sGiOqC4k"
      },
      "outputs": [],
      "source": [
        "def answer_eight():\n",
        "    hubs = nx.hits(G2)[0]\n",
        "\n",
        "    return sorted(hubs.keys(), \n",
        "                  key=(lambda x: hubs[x]), reverse=True)[:5]"
      ]
    },
    {
      "cell_type": "markdown",
      "metadata": {
        "id": "BWdnTbKoqC4k"
      },
      "source": [
        "### Question 9 \n",
        "\n",
        "Apply the HITS Algorithm to this network to find the 5 nodes with highest authority scores.\n",
        "\n",
        "*This function should return a list of the top 5 blogs in desending order of authority scores.*"
      ]
    },
    {
      "cell_type": "code",
      "execution_count": 28,
      "metadata": {
        "collapsed": true,
        "colab": {
          "base_uri": "https://localhost:8080/"
        },
        "id": "fcWMNJ4eqC4k",
        "outputId": "bf692c4a-7310-46e9-dace-1308a7e16d83"
      },
      "outputs": [
        {
          "output_type": "execute_result",
          "data": {
            "text/plain": [
              "['dailykos.com',\n",
              " 'talkingpointsmemo.com',\n",
              " 'atrios.blogspot.com',\n",
              " 'washingtonmonthly.com',\n",
              " 'talkleft.com']"
            ]
          },
          "metadata": {},
          "execution_count": 28
        }
      ],
      "source": [
        "def answer_nine():\n",
        "    authorities = nx.hits(G2)[1]\n",
        "\n",
        "    return sorted(authorities.keys(), \n",
        "                  key=(lambda x: authorities[x]), reverse=True)[:5]"
      ]
    }
  ],
  "metadata": {
    "coursera": {
      "course_slug": "python-social-network-analysis",
      "graded_item_id": "4XCse",
      "launcher_item_id": "utvmz",
      "part_id": "cZ7Jg"
    },
    "kernelspec": {
      "display_name": "Python 3",
      "language": "python",
      "name": "python3"
    },
    "language_info": {
      "codemirror_mode": {
        "name": "ipython",
        "version": 3
      },
      "file_extension": ".py",
      "mimetype": "text/x-python",
      "name": "python",
      "nbconvert_exporter": "python",
      "pygments_lexer": "ipython3",
      "version": "3.6.0"
    },
    "colab": {
      "provenance": [],
      "collapsed_sections": []
    }
  },
  "nbformat": 4,
  "nbformat_minor": 0
}